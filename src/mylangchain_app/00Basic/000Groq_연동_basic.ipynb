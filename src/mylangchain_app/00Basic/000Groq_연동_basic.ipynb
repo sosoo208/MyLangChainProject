{
 "cells": [
  {
   "cell_type": "code",
   "execution_count": 1,
   "metadata": {},
   "outputs": [
    {
     "name": "stdout",
     "output_type": "stream",
     "text": [
      "Hello LangChain\n"
     ]
    }
   ],
   "source": [
    "print(\"Hello LangChain\")"
   ]
  },
  {
   "cell_type": "code",
   "execution_count": 3,
   "metadata": {},
   "outputs": [
    {
     "name": "stdout",
     "output_type": "stream",
     "text": [
      "gsk_LiNnM\n"
     ]
    }
   ],
   "source": [
    "import os\n",
    "from dotenv import load_dotenv\n",
    "from langchain_core.prompts import ChatPromptTemplate\n",
    "from langchain_openai import ChatOpenAI \n",
    "\n",
    "#load_dotenv(dotenv_path='.env')\n",
    "load_dotenv()\n",
    "OPENAI_API_KEY = os.getenv(\"OPENAI_API_KEY\")\n",
    "print(OPENAI_API_KEY[:9])\n"
   ]
  },
  {
   "cell_type": "code",
   "execution_count": 5,
   "metadata": {},
   "outputs": [
    {
     "name": "stdout",
     "output_type": "stream",
     "text": [
      "<class 'langchain_core.prompts.chat.ChatPromptTemplate'>\n",
      "input_variables=['input'] input_types={} partial_variables={} messages=[SystemMessagePromptTemplate(prompt=PromptTemplate(input_variables=[], input_types={}, partial_variables={}, template='당신은 개발자입니다.'), additional_kwargs={}), HumanMessagePromptTemplate(prompt=PromptTemplate(input_variables=['input'], input_types={}, partial_variables={}, template='{input}'), additional_kwargs={})]\n"
     ]
    }
   ],
   "source": [
    "# prompt + llm + output \n",
    "\n",
    "# prompt\n",
    "prompt = ChatPromptTemplate.from_messages(\n",
    "    [ (\"system\", \"당신은 개발자입니다.\") , \n",
    "     (\"user\", \"{input}\") ]\n",
    ")\n",
    "print(type(prompt))\n",
    "print(prompt)"
   ]
  },
  {
   "cell_type": "code",
   "execution_count": 8,
   "metadata": {},
   "outputs": [
    {
     "name": "stdout",
     "output_type": "stream",
     "text": [
      "<class 'str'>\n",
      "System: 당신은 개발자입니다.\n",
      "Human: 파이썬은 무엇인가요? 자세하게 설명해주세요\n"
     ]
    }
   ],
   "source": [
    "prompt_text = prompt.format(input=\"파이썬은 무엇인가요? 자세하게 설명해주세요\")\n",
    "print(type(prompt_text))\n",
    "print(prompt_text)"
   ]
  },
  {
   "cell_type": "code",
   "execution_count": 18,
   "metadata": {},
   "outputs": [
    {
     "name": "stdout",
     "output_type": "stream",
     "text": [
      "<class 'langchain_openai.chat_models.base.ChatOpenAI'>\n",
      "client=<openai.resources.chat.completions.completions.Completions object at 0x000001ED0BD0B690> async_client=<openai.resources.chat.completions.completions.AsyncCompletions object at 0x000001ED0BD38750> root_client=<openai.OpenAI object at 0x000001ED0BD2A250> root_async_client=<openai.AsyncOpenAI object at 0x000001ED0BBF2050> model_name='openai/gpt-oss-120b' temperature=0.7 model_kwargs={} openai_api_key=SecretStr('**********') openai_api_base='https://api.groq.com/openai/v1'\n"
     ]
    }
   ],
   "source": [
    "#llm = ChatOpenAI(api_key=OPENAI_API_KEY, model_name=\"gpt-3.5-turbo-0125\")\n",
    "\n",
    "# Groq API를 사용하는 ChatOpenAI 인스턴스 생성\n",
    "llm = ChatOpenAI(\n",
    "    #api_key=OPENAI_API_KEY,\n",
    "    base_url=\"https://api.groq.com/openai/v1\",  # Groq API 엔드포인트\n",
    "    #model=\"meta-llama/llama-4-scout-17b-16e-instruct\",\n",
    "    #model=\"moonshotai/kimi-k2-instruct-0905\",\n",
    "    model=\"openai/gpt-oss-120b\",\n",
    "    temperature=0.7\n",
    ")\n",
    "print(type(llm))\n",
    "print(llm)"
   ]
  },
  {
   "cell_type": "code",
   "execution_count": 19,
   "metadata": {},
   "outputs": [
    {
     "name": "stdout",
     "output_type": "stream",
     "text": [
      "<class 'langchain_core.messages.ai.AIMessage'>\n",
      "응답: ## 파이썬(Python)이란?\n",
      "\n",
      "파이썬은 **고수준(high‑level) 인터프리터 언어**로, 1991년에 네덜란드의 프로그래머 **귀도 반 로썸(Guido van Rossum)**이 처음 발표했습니다. 현재는 **오픈소스**이며, 전 세계 수많은 개발자와 기업이 활발히 유지·보수하고 있습니다. 파이썬은 **읽기 쉬운 문법**, **다양한 표준 라이브러리**, 그리고 **풍부한 서드파티 패키지** 덕분에 웹 개발, 데이터 과학, 인공지능, 시스템 관리, 임베디드 시스템 등 거의 모든 분야에서 활용됩니다.\n",
      "\n",
      "---\n",
      "\n",
      "## 1. 파이썬의 주요 특징\n",
      "\n",
      "| 특징 | 설명 |\n",
      "|------|------|\n",
      "| **읽기 쉬운 문법** | 들여쓰기(Indentation)를 사용해 블록을 구분합니다. 중괄호 `{}` 나 `;` 같은 구문이 없어 가독성이 뛰어납니다. |\n",
      "| **동적 타이핑** | 변수 선언 시 타입을 명시하지 않아도 됩니다. 런타임에 객체의 타입이 결정됩니다. |\n",
      "| **인터프리터 언어** | 코드를 바로 실행할 수 있어 개발·디버깅이 빠릅니다. (컴파일 단계가 없거나 최소화됨) |\n",
      "| **풍부한 표준 라이브러리** | `os`, `sys`, `json`, `datetime`, `http`, `re` 등 수백 개의 모듈이 기본 제공됩니다. |\n",
      "| **멀티패러다임** | 절차적, 객체지향, 함수형 프로그래밍을 모두 지원합니다. |\n",
      "| **플랫폼 독립성** | Windows, macOS, Linux, BSD, 그리고 일부 모바일/임베디드 OS에서도 동일하게 동작합니다. |\n",
      "| **확장성** | C/C++ 로 작성된 모듈을 손쉽게 연결할 수 있어 성능이 중요한 부분은 네이티브 코드로 보강할 수 있습니다. |\n",
      "| **대규모 커뮤니티** | PyPI(Python Package Index)에는 30만 개가 넘는 패키지가 존재하며, Stack Overflow, GitHub, Reddit 등에서 활발히 질문·답변이 이루어집니다. |\n",
      "| **버전 관리** | 현재 주 버전은 **Python 3.x**이며, 2.x는 2020년 1월에 공식 지원이 종료되었습니다. |\n",
      "\n",
      "---\n",
      "\n",
      "## 2. 파이썬의 역사\n",
      "\n",
      "| 연도 | 주요 사건 |\n",
      "|------|-----------|\n",
      "| **1989** | 귀도 반 로썸이 “아몰프(ABC) 언어”의 경험을 바탕으로 파이썬 설계 착수 |\n",
      "| **1991** | 파이썬 0.9.0 공개 (예외 처리, 모듈, 함수 등 기본 기능 포함) |\n",
      "| **1994** | 파이썬 1.0 릴리스 |\n",
      "| **2000** | 파이썬 2.0 릴리스 (리스트 컴프리헨션, 가비지 컬렉션 등) |\n",
      "| **2008** | 파이썬 3.0 릴리스 (문자열이 Unicode 기반, `print`가 함수화 등) |\n",
      "| **2010~2020** | 데이터 과학·머신러닝 붐과 함께 파이썬 사용 급증 (NumPy, pandas, TensorFlow, PyTorch 등) |\n",
      "| **2023** | 파이썬 3.12 릴리스 (패턴 매칭 개선, 성능 최적화) |\n",
      "| **2025** | 현재 최신 LTS 버전은 3.13 (예정) |\n",
      "\n",
      "> **핵심 포인트**: 파이썬 2와 3는 문법·표현식이 호환되지 않는 부분이 있어, 2020년 이후 신규 프로젝트는 반드시 3.x 버전을 사용합니다.\n",
      "\n",
      "---\n",
      "\n",
      "## 3. 파이썬의 기본 문법 예시\n",
      "\n",
      "### 3-1. “Hello, World!” 출력\n",
      "```python\n",
      "print(\"Hello, World!\")\n",
      "```\n",
      "\n",
      "### 3-2. 변수와 자료형\n",
      "```python\n",
      "# 정수\n",
      "age = 30\n",
      "\n",
      "# 실수\n",
      "height = 1.78\n",
      "\n",
      "# 문자열\n",
      "name = \"홍길동\"\n",
      "\n",
      "# 리스트\n",
      "fruits = [\"사과\", \"바나나\", \"체리\"]\n",
      "\n",
      "# 딕셔너리\n",
      "person = {\"이름\": \"홍길동\", \"나이\": 30}\n",
      "```\n",
      "\n",
      "### 3-3. 제어문\n",
      "```python\n",
      "# if-elif-else\n",
      "if age < 20:\n",
      "    print(\"청소년\")\n",
      "elif age < 60:\n",
      "    print(\"성인\")\n",
      "else:\n",
      "    print(\"노인\")\n",
      "\n",
      "# for 루프 (리스트 순회)\n",
      "for fruit in fruits:\n",
      "    print(fruit)\n",
      "\n",
      "# while 루프\n",
      "i = 0\n",
      "while i < 5:\n",
      "    print(i)\n",
      "    i += 1\n",
      "```\n",
      "\n",
      "### 3-4. 함수 정의와 호출\n",
      "```python\n",
      "def greet(name: str, times: int = 1) -> None:\n",
      "    \"\"\"인사말을 여러 번 출력합니다.\"\"\"\n",
      "    for _ in range(times):\n",
      "        print(f\"안녕하세요, {name}님!\")\n",
      "\n",
      "greet(\"홍길동\", 3)\n",
      "```\n",
      "\n",
      "### 3-5. 클래스와 객체지향\n",
      "```python\n",
      "class Animal:\n",
      "    def __init__(self, name):\n",
      "        self.name = name\n",
      "\n",
      "    def speak(self):\n",
      "        raise NotImplementedError(\"subclass must implement speak()\")\n",
      "\n",
      "class Dog(Animal):\n",
      "    def speak(self):\n",
      "        return \"멍멍!\"\n",
      "\n",
      "class Cat(Animal):\n",
      "    def speak(self):\n",
      "        return \"야옹!\"\n",
      "\n",
      "dog = Dog(\"바둑이\")\n",
      "cat = Cat(\"나비\")\n",
      "print(dog.speak())   # 멍멍!\n",
      "print(cat.speak())   # 야옹!\n",
      "```\n",
      "\n",
      "### 3-6. 파일 입출력\n",
      "```python\n",
      "# 파일 쓰기\n",
      "with open(\"sample.txt\", \"w\", encoding=\"utf-8\") as f:\n",
      "    f.write(\"파이썬은 재미있어요!\\n\")\n",
      "\n",
      "# 파일 읽기\n",
      "with open(\"sample.txt\", \"r\", encoding=\"utf-8\") as f:\n",
      "    content = f.read()\n",
      "    print(content)\n",
      "```\n",
      "\n",
      "---\n",
      "\n",
      "## 4. 파이썬이 많이 쓰이는 분야\n",
      "\n",
      "| 분야 | 활용 예시 | 주요 라이브러리/프레임워크 |\n",
      "|------|-----------|------------------------------|\n",
      "| **웹 개발** | 백엔드 API, 서버 사이드 렌더링 | Django, Flask, FastAPI, Tornado |\n",
      "| **데이터 과학** | 데이터 전처리·시각화·통계 분석 | NumPy, pandas, Matplotlib, Seaborn |\n",
      "| **머신러닝·딥러닝** | 모델 설계·학습·배포 | scikit‑learn, TensorFlow, PyTorch, Keras |\n",
      "| **자동화·스크립트** | 시스템 관리, 테스트 자동화, ETL | `subprocess`, `os`, `shutil`, `click` |\n",
      "| **과학·공학** | 시뮬레이션, 수치해석 | SciPy, SymPy, PyTorch (물리 시뮬), Jupyter |\n",
      "| **게임 개발** | 2D/3D 게임 엔진 | Pygame, Panda3D, Godot (Python 스크립팅) |\n",
      "| **네트워킹·보안** | 패킷 분석, 침투 테스트, 자동화 | Scapy, paramiko, requests, Twisted |\n",
      "| **임베디드·IoT** | 라즈베리 파이, 마이크로컨트롤러 | MicroPython, CircuitPython |\n",
      "| **교육** | 프로그래밍 입문, 알고리즘 교육 | 교재·온라인 코스 (Codecademy, Coursera 등) |\n",
      "\n",
      "> **특히 데이터 과학·머신러닝 분야**에서 파이썬은 “표준 언어”로 자리 잡았으며, 기업·학계 모두에서 가장 많이 채택되는 언어입니다.\n",
      "\n",
      "---\n",
      "\n",
      "## 5. 파이썬 개발 환경 설정\n",
      "\n",
      "1. **Python 설치**  \n",
      "   - 공식 웹사이트 <https://www.python.org/downloads/> 에서 최신 3.x 버전을 다운로드합니다.  \n",
      "   - Windows에서는 `Add Python to PATH` 옵션을 반드시 체크하세요.  \n",
      "\n",
      "2. **가상 환경(Virtual Environment) 사용**  \n",
      "   ```bash\n",
      "   # 프로젝트 폴더 생성\n",
      "   mkdir my_project && cd my_project\n",
      "\n",
      "   # 가상 환경 생성 (Python 3.8+)\n",
      "   python -m venv venv\n",
      "\n",
      "   # 활성화\n",
      "   # Windows\n",
      "   venv\\Scripts\\activate\n",
      "   # macOS/Linux\n",
      "   source venv/bin/activate\n",
      "   ```\n",
      "\n",
      "3. **패키지 관리**  \n",
      "   - 기본 패키지 매니저: `pip`  \n",
      "   ```bash\n",
      "   pip install numpy pandas matplotlib\n",
      "   ```\n",
      "   - 의존성 파일: `requirements.txt`  \n",
      "   ```bash\n",
      "   pip freeze > requirements.txt   # 현재 환경 저장\n",
      "   pip install -r requirements.txt # 다른 환경에 재설치\n",
      "   ```\n",
      "\n",
      "4. **IDE/에디터**  \n",
      "   - **VS Code** + Python 확장 (IntelliSense, 디버거)  \n",
      "   - **PyCharm** (Professional: 웹·데이터 과학 지원)  \n",
      "   - **Jupyter Notebook / JupyterLab** (인터랙티브 데이터 분석)  \n",
      "\n",
      "5. **코드 스타일**  \n",
      "   - PEP 8: 파이썬 공식 스타일 가이드 (들여쓰기 4 스페이스, 라인 길이 79자 등)  \n",
      "   - 자동 포맷터: `black`, `isort`  \n",
      "   - 린터: `flake8`, `pylint`\n",
      "\n",
      "---\n",
      "\n",
      "## 6. 파이썬 성능 최적화 팁\n",
      "\n",
      "| 상황 | 최적화 방법 |\n",
      "|------|-------------|\n",
      "| **CPU 바운드 연산** | NumPy/Numba 사용 → C 레벨 연산으로 가속 |\n",
      "| **I/O 바운드** | `asyncio`, `aiohttp` 같은 비동기 라이브러리 활용 |\n",
      "| **반복문 최적화** | 리스트 컴프리헨션, 제네레이터 사용 → 메모리 효율 ↑ |\n",
      "| **함수 호출 비용** | `functools.lru_cache` 로 결과 캐시 |\n",
      "| **다중 코어 활용** | `multiprocessing` 모듈 또는 `concurrent.futures` |\n",
      "| **프로파일링** | `cProfile`, `line_profiler` 로 병목 파악 |\n",
      "| **C 확장** | Cython, Pybind11, SWIG 로 핵심 로직을 C/C++ 로 구현 |\n",
      "\n",
      "---\n",
      "\n",
      "## 7. 파이썬 학습 로드맵 (초급 → 고급)\n",
      "\n",
      "1. **기초**  \n",
      "   - 변수·자료형·연산자·제어문·함수·모듈·패키지  \n",
      "   - 기본 입출력·예외 처리·파일 I/O  \n",
      "\n",
      "2. **중급**  \n",
      "   - 객체지향 프로그래밍 (클래스·상속·다형성)  \n",
      "   - 표준 라이브러리 활용 (`collections`, `itertools`, `datetime` 등)  \n",
      "   - 가상 환경·패키지 관리·테스트 (`unittest`, `pytest`)  \n",
      "\n",
      "3. **전문 분야 선택**  \n",
      "   - **웹** → Django/Flask/FastAPI, REST API 설계, 배포(Docker, Gunicorn)  \n",
      "   - **데이터 과학** → pandas, matplotlib, seaborn, Jupyter, 데이터 전처리 파이프라인  \n",
      "   - **머신러닝** → scikit‑learn, TensorFlow, PyTorch, 모델 서빙(ONNX, FastAPI)  \n",
      "   - **자동화** → Selenium, PyAutoGUI, `subprocess`, CI/CD 파이프라인  \n",
      "\n",
      "4. **고급**  \n",
      "   - 메타프로그래밍 (데코레이터·클래스 데코레이터·동적 코드 생성)  \n",
      "   - 타입 힌트와 정적 분석 (`mypy`, `pyright`)  \n",
      "   - 성능 최적화 (Cython, Numba, 멀티프로세싱)  \n",
      "   - 배포·컨테이너화 (Docker, Kubernetes, Serverless)  \n",
      "\n",
      "---\n",
      "\n",
      "## 8. 파이썬을 배우는 데 도움이 되는 자료\n",
      "\n",
      "| 종류 | 추천 자료 |\n",
      "|------|-----------|\n",
      "| **공식 문서** | <https://docs.python.org/3/> (튜토리얼, 라이브러리 레퍼런스) |\n",
      "| **온라인 강의** | Coursera “Python for Everybody”, Udemy “Complete Python Bootcamp”, Fast.ai “Practical Deep Learning for Coders” |\n",
      "| **책** | 《파이썬 코딩 도장》, 《Fluent Python》, 《Effective Python》, 《Python Data Science Handbook》 |\n",
      "| **인터랙티브** | Codecademy, LeetCode (Python), HackerRank (Python) |\n",
      "| **커뮤니티** | Stack Overflow (python tag), Reddit r/Python, 한국어 카카오톡·디스코드 파이썬 스터디 채널 |\n",
      "| **블로그·튜토리얼** | Real Python, Towards Data Science, 파이썬코드 (한국어 블로그) |\n",
      "\n",
      "---\n",
      "\n",
      "## 9. 결론\n",
      "\n",
      "- **파이썬은** 배우기 쉽고, **다양한 분야**에 적용 가능한 범용 프로그래밍 언어입니다.  \n",
      "- **읽기 쉬운 문법**과 **풍부한 라이브러리** 덕분에 프로토타입부터 대규모 서비스까지 폭넓게 사용됩니다.  \n",
      "- **커뮤니티와 생태계**가 활발해 최신 기술(인공지능·데이터 과학·클라우드)과도 빠르게 연계됩니다.  \n",
      "\n",
      "파이썬을 **핵심 언어**로 삼고, **프로젝트와 실전 경험**을 통해 단계적으로 학습한다면, 현대 소프트웨어·데이터 분야에서 큰 경쟁력을 가질 수 있습니다. 궁금한 점이나 특정 분야에 대한 심화 설명이 필요하면 언제든 알려 주세요! 🚀\n"
     ]
    }
   ],
   "source": [
    "try:\n",
    "    response = llm.invoke(prompt_text)\n",
    "    print(type(response))\n",
    "    print(\"응답:\", response.content)\n",
    "except Exception as e:\n",
    "    print(f\"오류 발생: {e}\")"
   ]
  },
  {
   "cell_type": "markdown",
   "metadata": {},
   "source": [
    "# LCEL"
   ]
  },
  {
   "cell_type": "code",
   "execution_count": 20,
   "metadata": {},
   "outputs": [],
   "source": [
    "from langchain_core.output_parsers import StrOutputParser\n",
    "\n",
    "output_parser = StrOutputParser()"
   ]
  },
  {
   "cell_type": "code",
   "execution_count": 21,
   "metadata": {},
   "outputs": [
    {
     "name": "stdout",
     "output_type": "stream",
     "text": [
      "<class 'langchain_core.runnables.base.RunnableSequence'>\n",
      "first=ChatPromptTemplate(input_variables=['input'], input_types={}, partial_variables={}, messages=[SystemMessagePromptTemplate(prompt=PromptTemplate(input_variables=[], input_types={}, partial_variables={}, template='당신은 개발자입니다.'), additional_kwargs={}), HumanMessagePromptTemplate(prompt=PromptTemplate(input_variables=['input'], input_types={}, partial_variables={}, template='{input}'), additional_kwargs={})]) middle=[ChatOpenAI(client=<openai.resources.chat.completions.completions.Completions object at 0x000001ED0BD0B690>, async_client=<openai.resources.chat.completions.completions.AsyncCompletions object at 0x000001ED0BD38750>, root_client=<openai.OpenAI object at 0x000001ED0BD2A250>, root_async_client=<openai.AsyncOpenAI object at 0x000001ED0BBF2050>, model_name='openai/gpt-oss-120b', temperature=0.7, model_kwargs={}, openai_api_key=SecretStr('**********'), openai_api_base='https://api.groq.com/openai/v1')] last=StrOutputParser()\n"
     ]
    }
   ],
   "source": [
    "chain = prompt | llm | output_parser\n",
    "print(type(chain))\n",
    "print(chain)"
   ]
  },
  {
   "cell_type": "code",
   "execution_count": 22,
   "metadata": {},
   "outputs": [],
   "source": [
    "response = chain.invoke({\"input\":\"지구의 자전주기는 얼마인가요?\"})"
   ]
  },
  {
   "cell_type": "code",
   "execution_count": 23,
   "metadata": {},
   "outputs": [
    {
     "name": "stdout",
     "output_type": "stream",
     "text": [
      "<class 'str'>\n",
      "지구는 **자전**을 한 번 하는 데 약 **23시간 56분 4초**(≈ 23.934 시간) 정도가 걸립니다. 이는 **항성일(sidereal day)**이라고 불리는 값으로, 별을 기준으로 보았을 때 지구가 한 바퀴 도는 시간입니다.  \n",
      "\n",
      "일반적으로 우리가 일상에서 사용하는 **태양일(solar day)**은 태양이 같은 위치에 다시 오르는 시간을 의미하는데, 이것은 약 **24시간**(정확히는 24 시간 0 분 0 초)입니다.  \n",
      "\n",
      "따라서:\n",
      "\n",
      "- **항성일** ≈ 23 h 56 m 4 s (자전 자체에 대한 순수한 회전 시간)  \n",
      "- **태양일** ≈ 24 h (우리 생활에서 경험하는 하루)  \n",
      "\n",
      "두 값의 차이는 지구가 태양 주위를 공전하면서 동시에 자전하기 때문에 발생합니다.\n"
     ]
    }
   ],
   "source": [
    "print(type(response))\n",
    "print(response)"
   ]
  }
 ],
 "metadata": {
  "kernelspec": {
   "display_name": "mylangchain-app-CGunLKE6-py3.11",
   "language": "python",
   "name": "python3"
  },
  "language_info": {
   "codemirror_mode": {
    "name": "ipython",
    "version": 3
   },
   "file_extension": ".py",
   "mimetype": "text/x-python",
   "name": "python",
   "nbconvert_exporter": "python",
   "pygments_lexer": "ipython3",
   "version": "3.11.11"
  }
 },
 "nbformat": 4,
 "nbformat_minor": 2
}
