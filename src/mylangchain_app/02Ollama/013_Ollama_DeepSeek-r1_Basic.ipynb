{
 "cells": [
  {
   "cell_type": "markdown",
   "metadata": {},
   "source": [
    "#### 1. 패키지 설치"
   ]
  },
  {
   "cell_type": "code",
   "execution_count": null,
   "metadata": {},
   "outputs": [],
   "source": [
    "# %pip install -q langchain\n",
    "# %pip install -q langchain-ollama"
   ]
  },
  {
   "cell_type": "markdown",
   "metadata": {},
   "source": [
    "#### 로컬 Ollama로 설치한 deepseek-r1:1.5b 모델을 사용하기\n",
    "##### ollama run deepseek-r1:1.5b"
   ]
  },
  {
   "cell_type": "code",
   "execution_count": null,
   "metadata": {},
   "outputs": [],
   "source": [
    "from langchain.llms import Ollama\n",
    "from langchain.prompts import PromptTemplate\n",
    "from langchain.chains import LLMChain\n",
    "\n",
    "# Ollama를 사용하여 로컬에서 실행 중인 deepseek-r1 모델을 로드\n",
    "llm = Ollama(model=\"deepseek-r1:1.5b\")\n",
    "\n",
    "# 프롬프트 템플릿 정의\n",
    "prompt_template = PromptTemplate(\n",
    "    input_variables=[\"question\"],\n",
    "    template=\"Q: {question}\\nA:\"\n",
    ")\n",
    "\n",
    "# LLMChain 생성\n",
    "chain = LLMChain(llm=llm, prompt=prompt_template)\n",
    "\n",
    "# 질문을 입력하고 모델의 응답을 받음\n",
    "question = \"What is LangChain?\"\n",
    "response = chain.invoke({\"question\": question})\n",
    "\n",
    "# 결과 출력\n",
    "print(type(response))\n",
    "print(response)\n",
    "print(response[\"text\"])"
   ]
  },
  {
   "cell_type": "markdown",
   "metadata": {},
   "source": [
    "##### 최신버전 LangChain에서는 ChatOllama와 RunnableSequence(prompt | llm) 를 사용"
   ]
  },
  {
   "cell_type": "code",
   "execution_count": 1,
   "metadata": {},
   "outputs": [
    {
     "name": "stdout",
     "output_type": "stream",
     "text": [
      "<class 'langchain_core.messages.ai.AIMessage'>\n",
      "content='<think>\\nOkay, so I need to figure out what Python is. From the previous message, I saw a user asking about it with a pretty basic answer, which was just \"A:\". That wasn\\'t helpful at all. I remember that someone named me responded by saying Python is a programming language and gave a more detailed explanation.\\n\\nAlright, let\\'s break this down. First, what is a programming language? Well, it\\'s something you use to write computer programs or solve problems automatically. So for example, JavaScript can be used on the internet to make web pages, but that\\'s not related here.\\n\\nSo back to Python. I think the first thing I should consider is where Python comes from. It was created by someone named Guido van Rosene under MIT\\'s open content and information policy. But what about who wrote the initial code? Oh right, it started with Sycoridius, which was a little silly, but eventually got into something called MindManager. That must have been around 1984 or so.\\n\\nOnce Python was created, what did it become known for? I think it\\'s especially popular because it\\'s open source. Open source means that anyone can look at the code and even change it to make their own versions of it. This is a big deal in software development because it allows collaboration and transparency. So if someone makes changes or improvements to Python, others can take those changes forward.\\n\\nAnother thing I remember is how Python works as an interactive shell. You can just type commands into the interpreter, and see the output immediately without needing to write any scripts or files. That\\'s pretty cool because it means you can test out ideas right away without waiting for a file to be processed.\\n\\nI also think Python has something called a type system. When I was learning about data types in other languages like C++, there were specific categories of data, like integers, strings, and booleans. Python does the same thing but on a much larger scale with its built-in data types. This makes it easier to write code because you don\\'t have to create every possible type.\\n\\nAnother feature that stands out is variable names. In many programming languages, variables can be named in any way—anything letters, numbers, underscores, or dollar signs. So Python allows that too. But I also think there\\'s a scoping rule where variables are only accessible within certain scopes of code, like functions or modules.\\n\\nI should consider what kind of problems people solve with Python. It\\'s widely used in web development because HTML, CSS, and JavaScript all work together on the same page as an interactive shell. This makes it very user-friendly for creating dynamic websites. Additionally, data analysis is another area where Python is used a lot, especially through libraries like NumPy and Pandas.\\n\\nEducation-wise, I\\'ve heard that Python is a great starting point for learning programming because it\\'s so accessible. It introduces concepts like loops, conditionals, and functions in a straightforward way without getting bogged down by the syntax of other languages. This makes it easier to pick up quickly compared to others like Java or C++.\\n\\nBut as I move forward with my studies, I might encounter more advanced topics. I should keep learning about Python because it\\'s still evolving. There are so many libraries and frameworks out there that can make programming tasks much easier for certain areas of work—like image processing with OpenCV or machine learning with scikit-learn.\\n\\nIn summary, Python is a powerful and versatile programming language known for its open-source nature, collaborative environment, dynamic interactive shell, type system, flexibility in handling data types, and extensive use in web development and data analysis. It\\'s also a great starting point for learning programming due to its simplicity and broad applications.\\n</think>\\n\\nPython is a widely recognized and influential programming language, known for several key features and characteristics:\\n\\n1. **Open Source Nature**: Python was created by Guido van Rosene under MIT open content and information policy. Its initial name was Sycoridius, which evolved into MindManager.\\n\\n2. **Collaborative Environment**: As an open-source project, Python allows anyone to contribute to its source code, promoting transparency and collaboration in software development.\\n\\n3. **Interactive Shell**: The Python interpreter can be run interactively on the command line or integrated into scripts using a text editor. This makes it easy to test out ideas immediately without waiting for processing.\\n\\n4. **Type System**: Python uses built-in data types, such as integers, strings, and booleans, similar to other languages but scaled up for large-scale use in its type system.\\n\\n5. **Variable Names**: Variables in Python can be named freely, following specific scoping rules, which allows for readability without overcomplicating the syntax.\\n\\n6. **Dynamic Interactive Shell**: The interactive shell is quick to load and provides immediate feedback on commands, facilitating rapid experimentation.\\n\\n7. **Programming with Python**: While primarily used for web development through technologies like HTML, CSS, and JavaScript, it also excels in data analysis, often paired with libraries such as NumPy and Pandas.\\n\\n8. **Education and Learning**: Python is an excellent starting language due to its simplicity in teaching programming basics—introducing concepts like loops, conditionals, and functions without syntax complexity.\\n\\n9. **Advanced Applications**: As one progresses in their studies, they will encounter more advanced topics and libraries tailored for specific areas, such as image processing with OpenCV or machine learning frameworks like scikit-learn.\\n\\nIn summary, Python is a versatile, open-source language that is both user-friendly and widely applicable, making it an excellent starting point for programming education.' additional_kwargs={} response_metadata={'model': 'deepseek-r1:1.5b', 'created_at': '2025-09-19T06:33:18.3247831Z', 'done': True, 'done_reason': 'stop', 'total_duration': 46436708400, 'load_duration': 97550200, 'prompt_eval_count': 24, 'prompt_eval_duration': 63019000, 'eval_count': 1137, 'eval_duration': 46275057400, 'model_name': 'deepseek-r1:1.5b'} id='run--66a79735-1571-4809-86f8-c1b0ec3163c1-0' usage_metadata={'input_tokens': 24, 'output_tokens': 1137, 'total_tokens': 1161}\n"
     ]
    }
   ],
   "source": [
    "from langchain_ollama import ChatOllama\n",
    "from langchain_core.prompts import ChatPromptTemplate\n",
    "\n",
    "# Ollama를 사용하여 로컬에서 실행 중인 llama3.2 모델 로드\n",
    "llm = ChatOllama(model=\"deepseek-r1:1.5b\")\n",
    "\n",
    "# 프롬프트 템플릿 정의\n",
    "# prompt_template = PromptTemplate.from_template(\"Q: {question}\\nA:\")\n",
    "\n",
    "# 더 정확한 응답을 위한 개선된 프롬프트\n",
    "prompt_template = ChatPromptTemplate.from_messages([\n",
    "    (\"system\", \"You are an AI assistant that provides accurate and detailed answers.\"),\n",
    "    (\"human\", \"Q: {question}\\nA:\")\n",
    "])\n",
    "\n",
    "# 최신 LangChain 방식: RunnableSequence 활용\n",
    "chain = prompt_template | llm\n",
    "\n",
    "# 실행 예시\n",
    "question = \"What is Pyhon?\"\n",
    "response = chain.invoke({\"question\": question})\n",
    "\n",
    "print(type(response))\n",
    "print(response)"
   ]
  },
  {
   "cell_type": "code",
   "execution_count": 2,
   "metadata": {},
   "outputs": [
    {
     "name": "stdout",
     "output_type": "stream",
     "text": [
      "<think>\n",
      "Okay, so I need to figure out what Python is. From the previous message, I saw a user asking about it with a pretty basic answer, which was just \"A:\". That wasn't helpful at all. I remember that someone named me responded by saying Python is a programming language and gave a more detailed explanation.\n",
      "\n",
      "Alright, let's break this down. First, what is a programming language? Well, it's something you use to write computer programs or solve problems automatically. So for example, JavaScript can be used on the internet to make web pages, but that's not related here.\n",
      "\n",
      "So back to Python. I think the first thing I should consider is where Python comes from. It was created by someone named Guido van Rosene under MIT's open content and information policy. But what about who wrote the initial code? Oh right, it started with Sycoridius, which was a little silly, but eventually got into something called MindManager. That must have been around 1984 or so.\n",
      "\n",
      "Once Python was created, what did it become known for? I think it's especially popular because it's open source. Open source means that anyone can look at the code and even change it to make their own versions of it. This is a big deal in software development because it allows collaboration and transparency. So if someone makes changes or improvements to Python, others can take those changes forward.\n",
      "\n",
      "Another thing I remember is how Python works as an interactive shell. You can just type commands into the interpreter, and see the output immediately without needing to write any scripts or files. That's pretty cool because it means you can test out ideas right away without waiting for a file to be processed.\n",
      "\n",
      "I also think Python has something called a type system. When I was learning about data types in other languages like C++, there were specific categories of data, like integers, strings, and booleans. Python does the same thing but on a much larger scale with its built-in data types. This makes it easier to write code because you don't have to create every possible type.\n",
      "\n",
      "Another feature that stands out is variable names. In many programming languages, variables can be named in any way—anything letters, numbers, underscores, or dollar signs. So Python allows that too. But I also think there's a scoping rule where variables are only accessible within certain scopes of code, like functions or modules.\n",
      "\n",
      "I should consider what kind of problems people solve with Python. It's widely used in web development because HTML, CSS, and JavaScript all work together on the same page as an interactive shell. This makes it very user-friendly for creating dynamic websites. Additionally, data analysis is another area where Python is used a lot, especially through libraries like NumPy and Pandas.\n",
      "\n",
      "Education-wise, I've heard that Python is a great starting point for learning programming because it's so accessible. It introduces concepts like loops, conditionals, and functions in a straightforward way without getting bogged down by the syntax of other languages. This makes it easier to pick up quickly compared to others like Java or C++.\n",
      "\n",
      "But as I move forward with my studies, I might encounter more advanced topics. I should keep learning about Python because it's still evolving. There are so many libraries and frameworks out there that can make programming tasks much easier for certain areas of work—like image processing with OpenCV or machine learning with scikit-learn.\n",
      "\n",
      "In summary, Python is a powerful and versatile programming language known for its open-source nature, collaborative environment, dynamic interactive shell, type system, flexibility in handling data types, and extensive use in web development and data analysis. It's also a great starting point for learning programming due to its simplicity and broad applications.\n",
      "</think>\n",
      "\n",
      "Python is a widely recognized and influential programming language, known for several key features and characteristics:\n",
      "\n",
      "1. **Open Source Nature**: Python was created by Guido van Rosene under MIT open content and information policy. Its initial name was Sycoridius, which evolved into MindManager.\n",
      "\n",
      "2. **Collaborative Environment**: As an open-source project, Python allows anyone to contribute to its source code, promoting transparency and collaboration in software development.\n",
      "\n",
      "3. **Interactive Shell**: The Python interpreter can be run interactively on the command line or integrated into scripts using a text editor. This makes it easy to test out ideas immediately without waiting for processing.\n",
      "\n",
      "4. **Type System**: Python uses built-in data types, such as integers, strings, and booleans, similar to other languages but scaled up for large-scale use in its type system.\n",
      "\n",
      "5. **Variable Names**: Variables in Python can be named freely, following specific scoping rules, which allows for readability without overcomplicating the syntax.\n",
      "\n",
      "6. **Dynamic Interactive Shell**: The interactive shell is quick to load and provides immediate feedback on commands, facilitating rapid experimentation.\n",
      "\n",
      "7. **Programming with Python**: While primarily used for web development through technologies like HTML, CSS, and JavaScript, it also excels in data analysis, often paired with libraries such as NumPy and Pandas.\n",
      "\n",
      "8. **Education and Learning**: Python is an excellent starting language due to its simplicity in teaching programming basics—introducing concepts like loops, conditionals, and functions without syntax complexity.\n",
      "\n",
      "9. **Advanced Applications**: As one progresses in their studies, they will encounter more advanced topics and libraries tailored for specific areas, such as image processing with OpenCV or machine learning frameworks like scikit-learn.\n",
      "\n",
      "In summary, Python is a versatile, open-source language that is both user-friendly and widely applicable, making it an excellent starting point for programming education.\n"
     ]
    }
   ],
   "source": [
    "print(response.content)"
   ]
  },
  {
   "cell_type": "code",
   "execution_count": 4,
   "metadata": {},
   "outputs": [
    {
     "name": "stdout",
     "output_type": "stream",
     "text": [
      "<think>\n",
      "Okay, the user is asking \"파이썬은 무엇인가요?\" which means \"What is Python?\" in Korean. I need to provide a detailed and accurate answer.\n",
      "\n",
      "First, I should start by defining Python. It's a general-purpose programming language, but I should mention its use cases like web development, data analysis, automation, etc. Maybe mention the Python ecosystem with libraries like NumPy, pandas, TensorFlow. Also, the syntax is known for being readable and concise, which is a key point.\n",
      "\n",
      "I should include the versioning system (Python 3.x vs 2.x) and note that Python is open-source. Highlight the community and resources available, like the official website and documentation. Maybe add something about the \"Hello World\" example to make it more engaging.\n",
      "\n",
      "Wait, the user might be a beginner, so I should keep the explanation simple without too much technical jargon. Also, mention that it's widely used in various fields and has a large community. Maybe touch on the philosophy of Python, like \"The Zen of Python,\" to add depth.\n",
      "\n",
      "I need to make sure the answer is structured clearly, maybe with sections like Definition, Features, Use Cases, and Community. Avoid any markdown and keep it conversational. Check for any recent updates or changes in Python, but since the question is general, maybe not necessary. Ensure that the answer is comprehensive but not overly lengthy.\n",
      "</think>\n",
      "\n",
      "파이썬은 프로그래밍 언어로, **Python**이라고 불리며, 1991년 바이런 라이프먼이 개발한 언어입니다. 이 언어는 간결하고 읽기 쉽게 설계되어, 데이터 분석, 웹 개발, 자동화, 머신러닝, 게임 개발 등 다양한 분야에서 널리 사용됩니다.\n",
      "\n",
      "### 주요 특징\n",
      "1. **유니코드 기반**  \n",
      "   - 다양한 언어와 호환 가능하며, 한글과 한글 인식 시스템도 지원합니다.\n",
      "\n",
      "2. **레벨 높은 읽기 쉬움**  \n",
      "   - 코드의 구조가 직관적이고, 주석이 많아 프로그래밍 기초를 배우기 쉽습니다.\n",
      "\n",
      "3. **프로젝트 기반**  \n",
      "   - **Pip**을 사용해 라이브러리(예: NumPy, Pandas, TensorFlow)를 쉽게 설치할 수 있습니다.\n",
      "\n",
      "4. **다양한 활용 분야**  \n",
      "   - **웹 개발**(Django, Flask), **데이터 분석**(Pandas), **머신러닝**(TensorFlow, PyTorch), **자동화**(scripting), **게임 개발**(Pygame) 등이 가능합니다.\n",
      "\n",
      "5. **오픈 소스**  \n",
      "   - 공개된 소스 코드로, 커뮤니티가 빠르게 개발과 유지보수를 진행합니다.\n",
      "\n",
      "6. **Python 3.x 버전**  \n",
      "   - 2.x 버전은 더 이상 업데이트되지 않으며, 3.x 버전은 현재 주요 기능을 지원합니다.\n",
      "\n",
      "### 기본 예제\n",
      "```python\n",
      "print(\"Hello, World!\")\n",
      "```\n",
      "이 코드는 Python에서 \"Hello, World!\"라는 문장을 출력합니다.\n",
      "\n",
      "### 커뮤니티와 자원\n",
      "- **공식 웹사이트**: [https://python.org](https://python.org)  \n",
      "- **문서**: [https://docs.python.org/](https://docs.python.org/)  \n",
      "- **커뮤니티**: Stack Overflow, Reddit, GitHub 등에서 토론과 지원이 가능합니다.\n",
      "\n",
      "### 요약\n",
      "파이썬은 **유니코드, 읽기 쉬운 코드, 다양한 분야에서 활용 가능한 프로그래밍 언어**로, 빠르게 배우고 활용할 수 있는 언어로 유명합니다. 🐍\n"
     ]
    }
   ],
   "source": [
    "from langchain_ollama import ChatOllama\n",
    "from langchain_core.prompts import ChatPromptTemplate\n",
    "\n",
    "# Ollama를 사용하여 로컬에서 실행 중인 llama3.2 모델 로드\n",
    "llm = ChatOllama(model=\"qwen3:1.7b\")\n",
    "\n",
    "# 더 정확한 응답을 위한 개선된 프롬프트\n",
    "prompt_template = ChatPromptTemplate.from_messages([\n",
    "    (\"system\", \"You are an AI assistant that provides accurate and detailed answers.\"),\n",
    "    (\"human\", \"Q: {question}\\nA:\")\n",
    "])\n",
    "\n",
    "# 최신 LangChain 방식: RunnableSequence 활용\n",
    "chain = prompt_template | llm\n",
    "\n",
    "# 실행 예시\n",
    "question = \"파이썬은 무엇인가요?\"\n",
    "response = chain.invoke({\"question\": question})\n",
    "\n",
    "print(response.content)"
   ]
  },
  {
   "cell_type": "code",
   "execution_count": null,
   "metadata": {},
   "outputs": [],
   "source": []
  }
 ],
 "metadata": {
  "kernelspec": {
   "display_name": "mylangchain-app-CGunLKE6-py3.11",
   "language": "python",
   "name": "python3"
  },
  "language_info": {
   "codemirror_mode": {
    "name": "ipython",
    "version": 3
   },
   "file_extension": ".py",
   "mimetype": "text/x-python",
   "name": "python",
   "nbconvert_exporter": "python",
   "pygments_lexer": "ipython3",
   "version": "3.11.11"
  }
 },
 "nbformat": 4,
 "nbformat_minor": 2
}
