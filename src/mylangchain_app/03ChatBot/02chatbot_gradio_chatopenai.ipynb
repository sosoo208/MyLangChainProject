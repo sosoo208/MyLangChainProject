{
 "cells": [
  {
   "cell_type": "markdown",
   "metadata": {
    "id": "_pyLTgWwvQhV"
   },
   "source": [
    "그라디오 챗봇와 랭체인 LLM 연동하기"
   ]
  },
  {
   "cell_type": "code",
   "execution_count": null,
   "metadata": {
    "colab": {
     "base_uri": "https://localhost:8080/"
    },
    "executionInfo": {
     "elapsed": 29624,
     "status": "ok",
     "timestamp": 1739071493071,
     "user": {
      "displayName": "Myung Sook Baek",
      "userId": "06392624545902733911"
     },
     "user_tz": -540
    },
    "id": "mho6mQWYvUle",
    "outputId": "05496f39-0f87-447e-d46a-0edbf9566171"
   },
   "outputs": [],
   "source": [
    "# 그라디오 라이브러리를 설치합니다.\n",
    "#poetry add gradio \n",
    "# 랭체인 라이브러리를 설치합니다.\n",
    "#poetry add langchain \n",
    "# 랭체인 OpenAI 연동 라이브러리를 설치합니다.\n",
    "#poetry add langchain-openai"
   ]
  },
  {
   "cell_type": "markdown",
   "metadata": {},
   "source": [
    "#### LangChain의 ChatOpenAI가 환경 변수를 자동으로 로드하는 방식\n",
    "* load_dotenv()를 실행하면 .env 파일에 있는 환경 변수가 시스템 환경 변수로 등록됨\n",
    "* LangChain의 ChatOpenAI는 api_key=None일 때 os.getenv(\"OPENAI_API_KEY\")를 자동으로 불러옴\n",
    "* 따라서 api_key를 명시적으로 설정하지 않아도 API 키가 자동으로 적용됨"
   ]
  },
  {
   "cell_type": "code",
   "execution_count": 2,
   "metadata": {
    "executionInfo": {
     "elapsed": 9,
     "status": "ok",
     "timestamp": 1739073587961,
     "user": {
      "displayName": "Myung Sook Baek",
      "userId": "06392624545902733911"
     },
     "user_tz": -540
    },
    "id": "1eHQ5ThX3KHP"
   },
   "outputs": [
    {
     "name": "stdout",
     "output_type": "stream",
     "text": [
      "gsk_\n"
     ]
    }
   ],
   "source": [
    "from dotenv import load_dotenv\n",
    "import os\n",
    "\n",
    "# .env 파일을 불러와서 환경 변수로 설정\n",
    "load_dotenv()\n",
    "\n",
    "OPENAI_API_KEY = os.getenv(\"OPENAI_API_KEY\")\n",
    "print(OPENAI_API_KEY[:4])"
   ]
  },
  {
   "cell_type": "code",
   "execution_count": 3,
   "metadata": {},
   "outputs": [
    {
     "name": "stdout",
     "output_type": "stream",
     "text": [
      "0.3.27\n"
     ]
    }
   ],
   "source": [
    "import langchain\n",
    "\n",
    "print(langchain.__version__)"
   ]
  },
  {
   "cell_type": "code",
   "execution_count": 4,
   "metadata": {
    "colab": {
     "base_uri": "https://localhost:8080/"
    },
    "executionInfo": {
     "elapsed": 4273,
     "status": "ok",
     "timestamp": 1739073595715,
     "user": {
      "displayName": "Myung Sook Baek",
      "userId": "06392624545902733911"
     },
     "user_tz": -540
    },
    "id": "3_Wj7jaE4giS",
    "outputId": "b9e33cb5-b7d6-4080-89eb-7722641b7f50"
   },
   "outputs": [
    {
     "name": "stderr",
     "output_type": "stream",
     "text": [
      "c:\\Users\\USER\\AppData\\Local\\pypoetry\\Cache\\virtualenvs\\mylangchain-app-CGunLKE6-py3.11\\Lib\\site-packages\\tqdm\\auto.py:21: TqdmWarning: IProgress not found. Please update jupyter and ipywidgets. See https://ipywidgets.readthedocs.io/en/stable/user_install.html\n",
      "  from .autonotebook import tqdm as notebook_tqdm\n"
     ]
    },
    {
     "name": "stdout",
     "output_type": "stream",
     "text": [
      "content='파이썬(Python)은 1991년 네덜란드의 개빈 반 로섬(Guido van Rossum)이 발표한 고급 프로그래밍 언어입니다. 이름은 그가 좋아했던 코미디 그룹 ‘Monty Python’에서 따왔습니다.\\n\\n### 핵심 특징\\n1. **문법이 단순하고 가독성이 높다**  \\n   들여쓰기(indent)로 블록을 구분하며, C/C++이나 Java처럼 중괄호 `{}`나 세미콜론 `;`이 거의 없습니다.\\n\\n2. **인터프리터 언어**  \\n   소스코드를 바로 실행하며, 별도의 컴파일 단계가 필요 없어 빠른 프로토타이핑에 유리합니다.\\n\\n3. **크로스 플랫폼**  \\n   Windows·macOS·Linux 등 거의 모든 운영체제에서 동일한 코드로 실행됩니다.\\n\\n4. **방대한 표준 라이브러리 & 생태계**  \\n   웹(Django·Flask), 데이터 분석(pandas·NumPy·SciPy), 머신러닝(TensorFlow·PyTorch), 자동화·스크래핑(Selenium·BeautifulSoup) 등 수많은 서드파티 패키지가 있습니다.\\n\\n5. **객체지향·절차지향·함수형 모두 지원**  \\n   다양한 프로그래밍 패러다임을 하나의 언어로 활용할 수 있습니다.\\n\\n### 간단한 예제\\n```python\\n# 화씨 → 섭씨 변환기\\nf = float(input(\"화씨 온도: \"))\\nc = (f - 32) * 5 / 9\\nprint(f\"{f:.1f}°F = {c:.1f}°C\")\\n```\\n\\n### 왜 많은 사람이 파이썬을 선택할까?\\n- 쉽게 배울 수 있어 입문자가 많습니다.  \\n- 생산성이 높아 스타트업·연구·분석 업계에서 표준처럼 쓰입니다.  \\n- 최근에는 인공지능·빅데이터 열풍과 함께 ‘데이터 사이언스의 사실상 표준 언어’로 자리 잡았습니다.\\n\\n요약하자면, 파이썬은 “읽기 쉽고, 쓰기 쉽고, 강력한” 언어로, 초보자부터 전문가까지 폭넓게 사랑받고 있습니다.' additional_kwargs={'refusal': None} response_metadata={'token_usage': {'completion_tokens': 637, 'prompt_tokens': 34, 'total_tokens': 671, 'completion_tokens_details': None, 'prompt_tokens_details': None, 'queue_time': 0.05327838, 'prompt_time': 0.009575076, 'completion_time': 3.222728211, 'total_time': 3.232303287}, 'model_name': 'moonshotai/kimi-k2-instruct-0905', 'system_fingerprint': 'fp_b8565bb333', 'id': 'chatcmpl-706e6d8d-0120-4f24-84d1-001e31417f83', 'service_tier': 'on_demand', 'finish_reason': 'stop', 'logprobs': None} id='run--37074844-0aee-4226-aa79-3f19c34c44d2-0' usage_metadata={'input_tokens': 34, 'output_tokens': 637, 'total_tokens': 671, 'input_token_details': {}, 'output_token_details': {}}\n",
      "파이썬(Python)은 1991년 네덜란드의 개빈 반 로섬(Guido van Rossum)이 발표한 고급 프로그래밍 언어입니다. 이름은 그가 좋아했던 코미디 그룹 ‘Monty Python’에서 따왔습니다.\n",
      "\n",
      "### 핵심 특징\n",
      "1. **문법이 단순하고 가독성이 높다**  \n",
      "   들여쓰기(indent)로 블록을 구분하며, C/C++이나 Java처럼 중괄호 `{}`나 세미콜론 `;`이 거의 없습니다.\n",
      "\n",
      "2. **인터프리터 언어**  \n",
      "   소스코드를 바로 실행하며, 별도의 컴파일 단계가 필요 없어 빠른 프로토타이핑에 유리합니다.\n",
      "\n",
      "3. **크로스 플랫폼**  \n",
      "   Windows·macOS·Linux 등 거의 모든 운영체제에서 동일한 코드로 실행됩니다.\n",
      "\n",
      "4. **방대한 표준 라이브러리 & 생태계**  \n",
      "   웹(Django·Flask), 데이터 분석(pandas·NumPy·SciPy), 머신러닝(TensorFlow·PyTorch), 자동화·스크래핑(Selenium·BeautifulSoup) 등 수많은 서드파티 패키지가 있습니다.\n",
      "\n",
      "5. **객체지향·절차지향·함수형 모두 지원**  \n",
      "   다양한 프로그래밍 패러다임을 하나의 언어로 활용할 수 있습니다.\n",
      "\n",
      "### 간단한 예제\n",
      "```python\n",
      "# 화씨 → 섭씨 변환기\n",
      "f = float(input(\"화씨 온도: \"))\n",
      "c = (f - 32) * 5 / 9\n",
      "print(f\"{f:.1f}°F = {c:.1f}°C\")\n",
      "```\n",
      "\n",
      "### 왜 많은 사람이 파이썬을 선택할까?\n",
      "- 쉽게 배울 수 있어 입문자가 많습니다.  \n",
      "- 생산성이 높아 스타트업·연구·분석 업계에서 표준처럼 쓰입니다.  \n",
      "- 최근에는 인공지능·빅데이터 열풍과 함께 ‘데이터 사이언스의 사실상 표준 언어’로 자리 잡았습니다.\n",
      "\n",
      "요약하자면, 파이썬은 “읽기 쉽고, 쓰기 쉽고, 강력한” 언어로, 초보자부터 전문가까지 폭넓게 사랑받고 있습니다.\n"
     ]
    }
   ],
   "source": [
    "from langchain_openai import ChatOpenAI\n",
    "\n",
    "# LLM 인스턴스 생성\n",
    "#llm = ChatOpenAI(model_name=\"gpt-3.5-turbo\")\n",
    "llm = ChatOpenAI(\n",
    "    base_url=\"https://api.groq.com/openai/v1\",\n",
    "    #model=\"meta-llama/llama-4-scout-17b-16e-instruct\",\n",
    "    model=\"moonshotai/kimi-k2-instruct-0905\",\n",
    "    temperature=0\n",
    ")\n",
    "\n",
    "response = llm.invoke([{\"role\": \"user\", \"content\": \"파이썬이란?\"}])\n",
    "print(response)\n",
    "print(response.content)"
   ]
  },
  {
   "cell_type": "markdown",
   "metadata": {},
   "source": [
    "#### API 키를 명시적으로 설정하는 방법"
   ]
  },
  {
   "cell_type": "code",
   "execution_count": 5,
   "metadata": {},
   "outputs": [
    {
     "name": "stdout",
     "output_type": "stream",
     "text": [
      "content='파이썬(Python)은 1991년 네덜란드의 개빈 반 로섬(Guido van Rossum)이 발표한 고급 프로그래밍 언어입니다. 이름은 그가 좋아했던 코미디 그룹 ‘Monty Python’에서 따왔습니다.\\n\\n### 핵심 특징\\n1. **문법이 단순하고 가독성이 높다**  \\n   들여쓰기(indent)로 블록을 구분하며, C·자바처럼 중괄호나 세미콜론이 거의 없어 ‘사실상 의사코드처럼 보인다’는 평가를 받습니다.\\n\\n2. **인터프리터 언어**  \\n   소스를 바로 실행하며, 대화형 프롬프트(REPL)에서 한 줄씩 즉시 결과를 확인할 수 있습니다.\\n\\n3. **크로스 플랫폼**  \\n   Windows·macOS·Linux·임베디드 시스템 등 거의 모든 운영체제에서 동일한 코드로 실행됩니다.\\n\\n4. **방대한 표준 라이브러리 + 외부 패키지**  \\n   웹(Flask·Django), 데이터 분석(pandas·NumPy·SciPy), 머신러닝(PyTorch·TensorFlow·scikit-learn), 자동화·스크래핑(Selenium·BeautifulSoup) 등 필요한 기능을 손쉽게 임포트해 사용할 수 있습니다.\\n\\n5. **객체지향 + 절차지향 + 함수형 지원**  \\n   클래스 기반 OOP는 물론이고, 함수형 고차 함수·람다·리스트 컴프리헨션 등 다양한 패러다임을 혼용할 수 있습니다.\\n\\n6. **동적 타이핑**  \\n   변수에 타입을 미리 선언하지 않아도 되며, 실행 중에 타입이 결정됩니다. (필요시 타입 힌트로 정적 분석도 가능)\\n\\n### 생태계\\n- **PyPI(Python Package Index)** : 40만 개 이상의 서드파티 패키지가 등록돼 있어 `pip install` 한 줄로 설치 가능  \\n- **가상환경(venv·conda)** : 프로젝트별로 독립된 의존성 관리  \\n- **Jupyter Notebook / Google Colab** : 대화형 데이터 탐색·교육에 특화\\n\\n### 활용 분야\\n- 웹 백엔드·API 서버\\n- 데이터 사이언스·인공지능·딥러닝\\n- DevOps·자동화 스크립트\\n- 사물인터넷·임베디드(마이크로파이썬)\\n- 게임·데스크톱 GUI·블록체인 스마트 컨트랙트 등\\n\\n### 버전\\n- 파이썬 2는 2020년 공식 지원 종료  \\n- 현재는 파이썬 3 계열(최신 안정 버전 3.12 이상)을 사용\\n\\n### 한 줄 요약\\n“읽기 쉽고 배우기 쉬우며, 방대한 라이브러리가 뒷받침하는 ‘만능’ 스크립트 언어”가 바로 파이썬입니다.' additional_kwargs={'refusal': None} response_metadata={'token_usage': {'completion_tokens': 817, 'prompt_tokens': 34, 'total_tokens': 851, 'completion_tokens_details': None, 'prompt_tokens_details': None, 'queue_time': 0.172626828, 'prompt_time': 0.009676874, 'completion_time': 5.414984335, 'total_time': 5.424661209}, 'model_name': 'moonshotai/kimi-k2-instruct-0905', 'system_fingerprint': 'fp_b8565bb333', 'id': 'chatcmpl-852c60e2-2d5f-4f3a-8afb-78cc44e41f79', 'service_tier': 'on_demand', 'finish_reason': 'stop', 'logprobs': None} id='run--38fb666c-2545-4e7c-aa58-f3313e854669-0' usage_metadata={'input_tokens': 34, 'output_tokens': 817, 'total_tokens': 851, 'input_token_details': {}, 'output_token_details': {}}\n"
     ]
    }
   ],
   "source": [
    "from langchain_openai import ChatOpenAI\n",
    "\n",
    "# 명시적으로 API 키 설정\n",
    "#llm = ChatOpenAI(model=\"gpt-3.5-turbo\", api_key=OPENAI_API_KEY)  \n",
    "llm = ChatOpenAI(\n",
    "    api_key=OPENAI_API_KEY,\n",
    "    base_url=\"https://api.groq.com/openai/v1\",\n",
    "    #model=\"meta-llama/llama-4-scout-17b-16e-instruct\",\n",
    "    model=\"moonshotai/kimi-k2-instruct-0905\",\n",
    "    temperature=0\n",
    ")\n",
    "\n",
    "response = llm.invoke([{\"role\": \"user\", \"content\": \"파이썬이란?\"}])\n",
    "print(response)"
   ]
  },
  {
   "cell_type": "code",
   "execution_count": 6,
   "metadata": {
    "colab": {
     "base_uri": "https://localhost:8080/",
     "height": 721
    },
    "executionInfo": {
     "elapsed": 120391,
     "status": "ok",
     "timestamp": 1739073719232,
     "user": {
      "displayName": "Myung Sook Baek",
      "userId": "06392624545902733911"
     },
     "user_tz": -540
    },
    "id": "wRX0aUZk7Zul",
    "outputId": "5eba57b6-5fbf-4597-de9a-d473e943d423"
   },
   "outputs": [
    {
     "name": "stdout",
     "output_type": "stream",
     "text": [
      "* Running on local URL:  http://127.0.0.1:7860\n",
      "* To create a public link, set `share=True` in `launch()`.\n"
     ]
    },
    {
     "data": {
      "text/html": [
       "<div><iframe src=\"http://127.0.0.1:7860/\" width=\"100%\" height=\"500\" allow=\"autoplay; camera; microphone; clipboard-read; clipboard-write;\" frameborder=\"0\" allowfullscreen></iframe></div>"
      ],
      "text/plain": [
       "<IPython.core.display.HTML object>"
      ]
     },
     "metadata": {},
     "output_type": "display_data"
    },
    {
     "name": "stdout",
     "output_type": "stream",
     "text": [
      "Keyboard interruption in main thread... closing server.\n"
     ]
    },
    {
     "data": {
      "text/plain": []
     },
     "execution_count": 6,
     "metadata": {},
     "output_type": "execute_result"
    }
   ],
   "source": [
    "# 그라디오 라이브러리를 불러옵니다.\n",
    "import gradio as gr\n",
    "# LangChain 의 ChatOpenAI 를 불러옵니다.\n",
    "from langchain_openai import ChatOpenAI\n",
    "\n",
    "# ChatOpenAI 인스턴스 생성\n",
    "#llm = ChatOpenAI(model=\"gpt-3.5-turbo\")\n",
    "llm = ChatOpenAI(\n",
    "    base_url=\"https://api.groq.com/openai/v1\",\n",
    "    #model=\"meta-llama/llama-4-scout-17b-16e-instruct\",\n",
    "    model=\"moonshotai/kimi-k2-instruct-0905\",\n",
    "    temperature=0\n",
    ")\n",
    "\n",
    "# 채팅봇의 응답을 처리하는 함수를 정의합니다.\n",
    "def chat_respond(message, chat_history):  \n",
    "    response = llm.invoke([{\"role\": \"user\", \"content\": message}])\n",
    "    bot_message = response.content\n",
    "    \n",
    "    chat_history.append({\"role\": \"user\", \"content\": message})\n",
    "    chat_history.append({\"role\": \"assistant\", \"content\": bot_message})\n",
    "\n",
    "    # 수정된 채팅 기록을 반환합니다.\n",
    "    return \"\", chat_history  \n",
    "\n",
    "# gr.Blocks()를 사용하여 인터페이스를 생성합니다.\n",
    "with gr.Blocks() as demo:  \n",
    "    chatbot = gr.Chatbot(label=\"채팅창\", type=\"messages\")  # '채팅창'이라는 레이블을 가진 채팅봇 컴포넌트를 생성합니다.\n",
    "    msg = gr.Textbox(label=\"입력\")  # '입력'이라는 레이블을 가진 텍스트박스를 생성합니다.\n",
    "    clear = gr.Button(\"초기화\")  # '초기화'라는 레이블을 가진 버튼을 생성합니다.\n",
    "\n",
    "    # 텍스트박스에 메시지를 입력하고 제출하면 respond 함수가 호출되도록 합니다.\n",
    "    msg.submit(chat_respond, [msg, chatbot], [msg, chatbot])  \n",
    "    # '초기화' 버튼을 클릭하면 채팅 기록을 초기화합니다.\n",
    "    clear.click(lambda: None, None, chatbot, queue=False)  \n",
    "\n",
    "# 인터페이스를 실행합니다. 실행하면 사용자는 '입력' 텍스트박스에 메시지를 작성하고 제출할 수 있으며, '초기화' 버튼을 통해 채팅 기록을 초기화 할 수 있습니다.\n",
    "demo.launch(debug=True)  "
   ]
  },
  {
   "cell_type": "code",
   "execution_count": null,
   "metadata": {},
   "outputs": [],
   "source": []
  }
 ],
 "metadata": {
  "colab": {
   "authorship_tag": "ABX9TyObKSkPPvS7YmfW96AW/9bs",
   "provenance": []
  },
  "kernelspec": {
   "display_name": "mylangchain-app-CGunLKE6-py3.11",
   "language": "python",
   "name": "python3"
  },
  "language_info": {
   "codemirror_mode": {
    "name": "ipython",
    "version": 3
   },
   "file_extension": ".py",
   "mimetype": "text/x-python",
   "name": "python",
   "nbconvert_exporter": "python",
   "pygments_lexer": "ipython3",
   "version": "3.11.11"
  }
 },
 "nbformat": 4,
 "nbformat_minor": 4
}
