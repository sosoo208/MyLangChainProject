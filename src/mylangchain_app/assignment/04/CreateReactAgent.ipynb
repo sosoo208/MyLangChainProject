{
 "cells": [
  {
   "cell_type": "markdown",
   "id": "edab8c0d",
   "metadata": {},
   "source": [
    "### 문제 4-2 : 조건부 분기가 있는 메뉴 추천 시스템 ( LangGraph 사용)\n"
   ]
  },
  {
   "cell_type": "code",
   "execution_count": 1,
   "id": "340e6e42",
   "metadata": {},
   "outputs": [
    {
     "name": "stdout",
     "output_type": "stream",
     "text": [
      "sk\n",
      "WD\n"
     ]
    }
   ],
   "source": [
    "from dotenv import load_dotenv\n",
    "import os\n",
    "load_dotenv()\n",
    "\n",
    "OPENAI_API_KEY = os.getenv(\"OPENAI_API_KEY\")\n",
    "print(OPENAI_API_KEY[:2])\n",
    "\n",
    "UPSTAGE_API_KEY = os.getenv(\"UPSTAGE_API_KEY\")\n",
    "print(UPSTAGE_API_KEY[30:])"
   ]
  },
  {
   "cell_type": "code",
   "execution_count": null,
   "id": "db7188bb",
   "metadata": {},
   "outputs": [
    {
     "name": "stdout",
     "output_type": "stream",
     "text": [
      "human: 추천해줘\n",
      "ai: Unknown - ₩6,000 | 카페라떼에 달콤한 바닐라 시럽을 더한 인기 메뉴입니다. 바닐라의 달콤함과 커피의 쌉싸름함이 조화롭게 어우러지며, 휘핑크림 토핑으로 더욱 풍성한 맛을 즐길 수 있습니다.\n",
      "Unknown - ₩7,000 | 에스프레소와 우유, 얼음을 블렌더에 갈아 만든 시원한 음료입니다. 부드럽고 크리미한 질감이 특징이며, 휘핑크림을 올려 달콤함을 더했습니다. 여름철 인기 메뉴입니다.\n",
      "Unknown - ₩4,500 | 진한 에스프레소에 뜨거운 물을 더해 만든 클래식한 블랙 커피입니다. 원두 본연의 맛을 가장 잘 느낄 수 있으며, 깔끔하고 깊은 풍미가 특징입니다. 설탕이나 시럽 추가 가능합니다.\n"
     ]
    }
   ],
   "source": [
    "import re\n",
    "from typing import TypedDict, List\n",
    "from langchain_core.messages import HumanMessage, AIMessage, BaseMessage\n",
    "from langchain_core.documents import Document\n",
    "from langgraph.graph import StateGraph, END\n",
    "\n",
    "from langchain_openai import OpenAIEmbeddings\n",
    "from langchain_community.vectorstores import FAISS\n",
    "\n",
    "class CafeState(TypedDict):\n",
    "    messages: List[BaseMessage]\n",
    "    query_type: str\n",
    "\n",
    "\n",
    "embeddings = OpenAIEmbeddings(model=\"text-embedding-3-small\")\n",
    "menu_db = FAISS.load_local(\n",
    "    \"./db/cafe_db\",\n",
    "    embeddings,\n",
    "    allow_dangerous_deserialization=True\n",
    ")\n",
    "\n",
    "\n",
    "def extract_menu_info(doc: Document) -> dict:\n",
    "    content = doc.page_content\n",
    "    menu_name = doc.metadata.get('menu_name', 'Unknown')\n",
    "\n",
    "    price_match = re.search(r'₩([\\d,]+)', content)\n",
    "    description_match = re.search(r'설명:\\s*(.+?)(?:\\n|$)', content, re.DOTALL)\n",
    "\n",
    "    return {\n",
    "        \"name\": menu_name,\n",
    "        \"price\": price_match.group(0) if price_match else \"가격 정보 없음\",\n",
    "        \"description\": description_match.group(1).strip() if description_match else \"설명 없음\"\n",
    "    }\n",
    "\n",
    "\n",
    "def classify_query(state: CafeState) -> CafeState:\n",
    "    user_message = state[\"messages\"][-1].content\n",
    "\n",
    "    if \"가격\" in user_message or \"얼마\" in user_message:\n",
    "        state[\"query_type\"] = \"price\"\n",
    "    elif \"추천\" in user_message or \"뭐 마실까\" in user_message:\n",
    "        state[\"query_type\"] = \"recommend\"\n",
    "    elif \"메뉴\" in user_message or any(m in user_message for m in [\"아메리카노\", \"라떼\", \"카푸치노\"]):\n",
    "        state[\"query_type\"] = \"menu\"\n",
    "    else:\n",
    "        state[\"query_type\"] = \"general\"\n",
    "\n",
    "    return state\n",
    "\n",
    "def generate_response(state: CafeState) -> CafeState:\n",
    "    user_message = state[\"messages\"][-1].content\n",
    "\n",
    "    if state[\"query_type\"] == \"price\":\n",
    "        docs = menu_db.similarity_search(\"메뉴 가격\", k=3)\n",
    "    elif state[\"query_type\"] == \"recommend\":\n",
    "        docs = menu_db.similarity_search(user_message, k=3)\n",
    "        if not docs:\n",
    "            docs = menu_db.similarity_search(\"인기 메뉴\", k=3)\n",
    "    elif state[\"query_type\"] == \"menu\":\n",
    "        docs = menu_db.similarity_search(user_message, k=3)\n",
    "    else:\n",
    "        docs = menu_db.similarity_search(user_message, k=2)\n",
    "\n",
    "    if docs:\n",
    "        info_list = [extract_menu_info(d) for d in docs]\n",
    "        response_text = \"\\n\".join(\n",
    "            [f\"{info['name']} - {info['price']} | {info['description']}\" for info in info_list]\n",
    "        )\n",
    "    else:\n",
    "        response_text = \"죄송합니다. 관련된 메뉴 정보를 찾을 수 없어요.\"\n",
    "\n",
    "    state[\"messages\"].append(AIMessage(content=response_text))\n",
    "    return state\n",
    "\n",
    "graph = StateGraph(CafeState)\n",
    "graph.add_node(\"classify_query\", classify_query)\n",
    "graph.add_node(\"generate_response\", generate_response)\n",
    "graph.set_entry_point(\"classify_query\")\n",
    "graph.add_edge(\"classify_query\", \"generate_response\")\n",
    "graph.add_edge(\"generate_response\", END)\n",
    "\n",
    "app = graph.compile()\n",
    "\n",
    "if __name__ == \"__main__\":\n",
    "    state: CafeState = {\n",
    "        \"messages\": [HumanMessage(content=\"추천해줘\")],\n",
    "        \"query_type\": \"general\"\n",
    "    }\n",
    "    final_state = app.invoke(state)\n",
    "    for m in final_state[\"messages\"]:\n",
    "        print(f\"{m.type}: {m.content}\")\n"
   ]
  },
  {
   "cell_type": "code",
   "execution_count": null,
   "id": "929dc5fc",
   "metadata": {},
   "outputs": [],
   "source": []
  }
 ],
 "metadata": {
  "kernelspec": {
   "display_name": "mylangchain-app-CGunLKE6-py3.11",
   "language": "python",
   "name": "python3"
  },
  "language_info": {
   "codemirror_mode": {
    "name": "ipython",
    "version": 3
   },
   "file_extension": ".py",
   "mimetype": "text/x-python",
   "name": "python",
   "nbconvert_exporter": "python",
   "pygments_lexer": "ipython3",
   "version": "3.11.11"
  }
 },
 "nbformat": 4,
 "nbformat_minor": 5
}
