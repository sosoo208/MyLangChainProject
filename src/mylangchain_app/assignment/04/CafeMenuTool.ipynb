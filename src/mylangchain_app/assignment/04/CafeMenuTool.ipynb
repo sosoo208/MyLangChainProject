{
 "cells": [
  {
   "cell_type": "markdown",
   "id": "cc717776",
   "metadata": {},
   "source": [
    "### 문제 4-1 : 카페 메뉴 도구(Tool) 호출 체인 구현"
   ]
  },
  {
   "cell_type": "code",
   "execution_count": 1,
   "id": "b16b98a4",
   "metadata": {},
   "outputs": [
    {
     "name": "stdout",
     "output_type": "stream",
     "text": [
      "sk\n",
      "WD\n"
     ]
    }
   ],
   "source": [
    "from dotenv import load_dotenv\n",
    "import os\n",
    "load_dotenv()\n",
    "\n",
    "OPENAI_API_KEY = os.getenv(\"OPENAI_API_KEY\")\n",
    "print(OPENAI_API_KEY[:2])\n",
    "\n",
    "UPSTAGE_API_KEY = os.getenv(\"UPSTAGE_API_KEY\")\n",
    "print(UPSTAGE_API_KEY[30:])"
   ]
  },
  {
   "cell_type": "code",
   "execution_count": 2,
   "id": "ab1e75c2",
   "metadata": {},
   "outputs": [
    {
     "name": "stderr",
     "output_type": "stream",
     "text": [
      "c:\\Users\\USER\\AppData\\Local\\pypoetry\\Cache\\virtualenvs\\mylangchain-app-CGunLKE6-py3.11\\Lib\\site-packages\\tqdm\\auto.py:21: TqdmWarning: IProgress not found. Please update jupyter and ipywidgets. See https://ipywidgets.readthedocs.io/en/stable/user_install.html\n",
      "  from .autonotebook import tqdm as notebook_tqdm\n"
     ]
    },
    {
     "name": "stdout",
     "output_type": "stream",
     "text": [
      "벡터 DB 생성 완료: ./db/cafe_db\n"
     ]
    }
   ],
   "source": [
    "import os\n",
    "from dotenv import load_dotenv\n",
    "from langchain_community.document_loaders import TextLoader\n",
    "from langchain_text_splitters import CharacterTextSplitter\n",
    "from langchain_openai import OpenAIEmbeddings\n",
    "from langchain_community.vectorstores import FAISS\n",
    "from langchain.tools import tool\n",
    "\n",
    "def build_cafe_db():\n",
    "    loader = TextLoader(\"../../data/cafe_menu_data.txt\", encoding=\"utf-8\")\n",
    "    docs = loader.load()\n",
    "\n",
    "    splitter = CharacterTextSplitter(chunk_size=300, chunk_overlap=50)\n",
    "    split_docs = splitter.split_documents(docs)\n",
    "\n",
    "    embeddings = OpenAIEmbeddings(model=\"text-embedding-3-small\")\n",
    "    db = FAISS.from_documents(split_docs, embeddings)\n",
    "\n",
    "    db.save_local(\"./db/cafe_db\")\n",
    "    print(\"벡터 DB 생성 완료: ./db/cafe_db\")\n",
    "\n",
    "if __name__ == \"__main__\":\n",
    "    build_cafe_db()"
   ]
  },
  {
   "cell_type": "code",
   "execution_count": 3,
   "id": "ad05f235",
   "metadata": {},
   "outputs": [
    {
     "name": "stderr",
     "output_type": "stream",
     "text": [
      "C:\\Users\\USER\\AppData\\Local\\Temp\\ipykernel_1568\\2004809752.py:7: LangChainDeprecationWarning: The class `TavilySearchResults` was deprecated in LangChain 0.3.25 and will be removed in 1.0. An updated version of the class exists in the :class:`~langchain-tavily package and should be used instead. To use it run `pip install -U :class:`~langchain-tavily` and import as `from :class:`~langchain_tavily import TavilySearch``.\n",
      "  tavily_search = TavilySearchResults(max_results=3)\n"
     ]
    }
   ],
   "source": [
    "from langchain.agents import tool\n",
    "from langchain_community.tools import TavilySearchResults\n",
    "from langchain_community.utilities import WikipediaAPIWrapper\n",
    "from langchain_community.vectorstores import FAISS\n",
    "from langchain_openai import OpenAIEmbeddings\n",
    "\n",
    "tavily_search = TavilySearchResults(max_results=3)\n",
    "\n",
    "@tool\n",
    "def tavily_search_func(query: str) -> str:\n",
    "    \"\"\"웹에서 최신 정보를 검색합니다.\"\"\"\n",
    "    return tavily_search.run(query)\n",
    "\n",
    "wiki = WikipediaAPIWrapper()\n",
    "\n",
    "@tool\n",
    "def wiki_summary(topic: str) -> str:\n",
    "    \"\"\"위키피디아에서 주제를 검색하고 요약합니다.\"\"\"\n",
    "    return wiki.run(topic)\n",
    "\n",
    "@tool\n",
    "def db_search_cafe_func(query: str):\n",
    "    \"\"\"카페 메뉴 벡터 DB에서 정보를 검색합니다.\"\"\"\n",
    "    embeddings = OpenAIEmbeddings(model=\"text-embedding-3-small\")\n",
    "    db = FAISS.load_local(\"./db/cafe_db\", embeddings, allow_dangerous_deserialization=True)\n",
    "    docs = db.similarity_search(query, k=2)\n",
    "    return [doc.page_content for doc in docs]\n"
   ]
  },
  {
   "cell_type": "code",
   "execution_count": 4,
   "id": "1d899e3d",
   "metadata": {},
   "outputs": [],
   "source": [
    "from langchain_openai import ChatOpenAI\n",
    "\n",
    "llm = ChatOpenAI(model=\"gpt-4o-mini\", temperature=0)\n",
    "\n",
    "llm_with_tools = llm.bind_tools([tavily_search_func, wiki_summary, db_search_cafe_func])"
   ]
  },
  {
   "cell_type": "code",
   "execution_count": 5,
   "id": "f6aacc96",
   "metadata": {},
   "outputs": [],
   "source": [
    "from langchain_core.prompts import ChatPromptTemplate\n",
    "\n",
    "prompt = ChatPromptTemplate.from_messages([\n",
    "    (\"system\", \"당신은 카페 메뉴 정보를 제공하는 똑똑한 어시스턴트입니다.\"),\n",
    "    (\"human\", \"{question}\")\n",
    "])\n",
    "\n",
    "def run_chain(question: str):\n",
    "    chain = prompt | llm_with_tools\n",
    "    result = chain.invoke({\"question\": question})\n",
    "    \n",
    "    print(\"질문:\", question)\n",
    "    print(\"모델 응답:\", result.content)\n",
    "\n",
    "    if hasattr(result, \"tool_calls\"):\n",
    "        print(\"\\n도구 호출:\")\n",
    "        for call in result.tool_calls:\n",
    "            print(f\"- {call['name']}({call['args']})\")\n",
    "\n",
    "    return result\n"
   ]
  },
  {
   "cell_type": "code",
   "execution_count": 6,
   "id": "2d910cee",
   "metadata": {},
   "outputs": [
    {
     "name": "stdout",
     "output_type": "stream",
     "text": [
      "질문: 아메리카노의 가격과 특징은 무엇인가요?\n",
      "모델 응답: \n",
      "\n",
      "도구 호출:\n",
      "- db_search_cafe_func({'query': '아메리카노'})\n"
     ]
    }
   ],
   "source": [
    "if __name__ == \"__main__\":\n",
    "    run_chain(\"아메리카노의 가격과 특징은 무엇인가요?\")"
   ]
  },
  {
   "cell_type": "code",
   "execution_count": null,
   "id": "6fe21693",
   "metadata": {},
   "outputs": [],
   "source": []
  }
 ],
 "metadata": {
  "kernelspec": {
   "display_name": "mylangchain-app-CGunLKE6-py3.11",
   "language": "python",
   "name": "python3"
  },
  "language_info": {
   "codemirror_mode": {
    "name": "ipython",
    "version": 3
   },
   "file_extension": ".py",
   "mimetype": "text/x-python",
   "name": "python",
   "nbconvert_exporter": "python",
   "pygments_lexer": "ipython3",
   "version": "3.11.11"
  }
 },
 "nbformat": 4,
 "nbformat_minor": 5
}
