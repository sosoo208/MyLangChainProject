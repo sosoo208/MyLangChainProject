{
 "cells": [
  {
   "cell_type": "code",
   "execution_count": 2,
   "id": "c9c23f73",
   "metadata": {},
   "outputs": [
    {
     "name": "stdout",
     "output_type": "stream",
     "text": [
      "gsk_LiNnM\n"
     ]
    }
   ],
   "source": [
    "import os\n",
    "from dotenv import load_dotenv\n",
    "from langchain_core.prompts import ChatPromptTemplate\n",
    "from langchain_openai import ChatOpenAI \n",
    "\n",
    "#load_dotenv(dotenv_path='.env')\n",
    "load_dotenv()\n",
    "OPENAI_API_KEY = os.getenv(\"OPENAI_API_KEY\")\n",
    "print(OPENAI_API_KEY[:9])"
   ]
  },
  {
   "cell_type": "code",
   "execution_count": 17,
   "id": "bc86b369",
   "metadata": {},
   "outputs": [
    {
     "name": "stdout",
     "output_type": "stream",
     "text": [
      "<class 'langchain_core.prompts.chat.ChatPromptTemplate'>\n",
      "input_variables=['ingredients'] input_types={} partial_variables={} messages=[SystemMessagePromptTemplate(prompt=PromptTemplate(input_variables=[], input_types={}, partial_variables={}, template='당신은 요리사입니다.'), additional_kwargs={}), HumanMessagePromptTemplate(prompt=PromptTemplate(input_variables=['ingredients'], input_types={}, partial_variables={}, template='입력된 재료: {ingredients}'), additional_kwargs={})]\n"
     ]
    }
   ],
   "source": [
    "# prompt\n",
    "prompt = ChatPromptTemplate.from_messages(\n",
    "    [ (\"system\", \"당신은 요리사입니다.\") , \n",
    "     (\"user\", \"입력된 재료: {ingredients}\") ]\n",
    ")\n",
    "print(type(prompt))\n",
    "print(prompt)"
   ]
  },
  {
   "cell_type": "code",
   "execution_count": 23,
   "id": "fe7d3f7b",
   "metadata": {},
   "outputs": [
    {
     "name": "stdout",
     "output_type": "stream",
     "text": [
      "계란과 밥, 김치로 만들 수 있는 요리를 추천드립니다!\n",
      "\n",
      "추천 요리: 굴소스 계란 볶음밥  \n",
      "재료: 밥, 계란, 당근, 대파, 굴소스, 식용유, 소금 약간  \n",
      "\n",
      "조리법:  \n",
      "1. 당근은 작게 깍둑썰기하고, 대파는 어슷하게 썬다.  \n",
      "2. 팬에 식용유를 두르고 중불에서 계란을 스크램블하듯 살짝 익힌 뒤 따로 접시에 옮겨 둔다.  \n",
      "3. 같은 팬에 대파와 당근을 넣고 1~2분 정도 볶아 향을 낸다.  \n",
      "4. 밥을 넣고 고루 섞으며 볶다가 굴소스를 1~2큰술(기호에 따라 조절) 넣고 다시 한 번 섞는다.  \n",
      "5. 미리 만든 스크램블 계란을 넣고 전체가 골고루 섞이도록 빠르게 볶아 마무리한다. 필요하면 소금으로 간을 맞춘다.  \n"
     ]
    }
   ],
   "source": [
    "from langchain_core.prompts import PromptTemplate\n",
    "\n",
    "llm = ChatOpenAI(\n",
    "    #api_key=OPENAI_API_KEY,\n",
    "    base_url=\"https://api.groq.com/openai/v1\",\n",
    "    model=\"openai/gpt-oss-120b\",\n",
    "    temperature=0.7\n",
    ")\n",
    "\n",
    "prompt = PromptTemplate(\n",
    "    input_variables=[\"ingredients\"],\n",
    "    template=\"\"\"\n",
    "당신은 요리사입니다. 사용자가 입력한 재료를 가지고 만들 수 있는 요리를 **한 가지만** 추천해주세요.\n",
    "\n",
    "입력된 재료: {ingredients}\n",
    "\n",
    "출력은 아래 형식을 반드시 따르세요:\n",
    "\n",
    "계란과 밥, 김치로 만들 수 있는 요리를 추천드립니다!\n",
    "\n",
    "추천 요리: (요리 이름)\n",
    "재료: (간단히 나열)\n",
    "조리법:\n",
    "1. ...\n",
    "2. ...\n",
    "3. ...\n",
    "\"\"\"\n",
    ")\n",
    "\n",
    "chain = prompt | llm | output_parser\n",
    "result = chain.invoke({\"ingredients\": \"밥, 계란, 당근, 대파, 굴소스\"})\n",
    "print(result[:2000])  "
   ]
  },
  {
   "cell_type": "code",
   "execution_count": null,
   "id": "e0d0fd20",
   "metadata": {},
   "outputs": [],
   "source": []
  }
 ],
 "metadata": {
  "kernelspec": {
   "display_name": "mylangchain-app-CGunLKE6-py3.11",
   "language": "python",
   "name": "python3"
  },
  "language_info": {
   "codemirror_mode": {
    "name": "ipython",
    "version": 3
   },
   "file_extension": ".py",
   "mimetype": "text/x-python",
   "name": "python",
   "nbconvert_exporter": "python",
   "pygments_lexer": "ipython3",
   "version": "3.11.11"
  }
 },
 "nbformat": 4,
 "nbformat_minor": 5
}
