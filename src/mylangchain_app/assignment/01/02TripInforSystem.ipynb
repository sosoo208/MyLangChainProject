{
 "cells": [
  {
   "cell_type": "code",
   "execution_count": 1,
   "id": "5d365cc8",
   "metadata": {},
   "outputs": [
    {
     "name": "stdout",
     "output_type": "stream",
     "text": [
      "gsk_LiNnM\n"
     ]
    }
   ],
   "source": [
    "import os\n",
    "from dotenv import load_dotenv\n",
    "from langchain_core.prompts import ChatPromptTemplate\n",
    "from langchain_openai import ChatOpenAI \n",
    "\n",
    "#load_dotenv(dotenv_path='.env')\n",
    "load_dotenv()\n",
    "OPENAI_API_KEY = os.getenv(\"OPENAI_API_KEY\")\n",
    "print(OPENAI_API_KEY[:9])"
   ]
  },
  {
   "cell_type": "code",
   "execution_count": 4,
   "id": "369d026e",
   "metadata": {},
   "outputs": [
    {
     "name": "stdout",
     "output_type": "stream",
     "text": [
      "('추천 2단계 결과: 명소: 대영박물관(The British Museum)\\n'\n",
      " '\\n'\n",
      " '역사:\\n'\n",
      " '1753년 의사이자 수집가인 한스 슬로안이 7만여 점의 소장품을 국가에 기증하면서 설립되었으며, 1759년 몬태규 하우스에서 일반인에게 '\n",
      " '처음 개방되었습니다. 19세기 중반 로버트 스모크 경이 설계한 신고전주의 건물로 확장·재건되었고, 2000년 개방된 유리 지붕의 '\n",
      " '‘그레이트 코트’는 유럽 최대의 유리 천장 공간으로 탈바꿈했습니다. 현재 800만 점이 넘는 컬렉션을 보유하며, 지속적인 '\n",
      " '발굴·기증·구매로 소장품이 증가하고 있습니다.\\n'\n",
      " '\\n'\n",
      " '특징:\\n'\n",
      " '- 세계 6대 문명을 아우르는 ‘시간여행’이 가능한 박물관으로, 1층 ‘문명의 방’은 로제타 스톤, 아슈르바니팔의 도서관 점토판, 에이번 '\n",
      " '호수 근처에서 발견된 ‘키프로스 컵’ 등을 한눈에 볼 수 있는 핵심 코스입니다.\\n'\n",
      " '- 4층 규모의 이집트·수단관은 무려 10만 점 이상의 유물을 소장하고 있어 카이로 이집트박물관 다음으로 규모가 크며, 기네스가 인정한 '\n",
      " '‘가장 많은 이집트 관외 유물’ 보유처입니다.\\n'\n",
      " '- 1816년 영국 정부가 구입한 ‘엘긴 마블’(파르테논 조각)은 그리스 정부의 반환 요구가 40년 넘게 이어지고 있는 대표적 '\n",
      " '소장품으로, 18세기 후반~19세 초의 유럽 ‘대발굴’ 시대를 대표합니다.\\n'\n",
      " '- 무료 입장이 기본 원칙이지만 특별전(예:‘히메네스 초상화展’)은 유료이며, 주제별 ‘하이라이트 1시간 투어’ ‘가족용 도슨트 투어’ '\n",
      " '등 무료 가이드 프로그램이 매일 3~4회 운영됩니다.\\n'\n",
      " '- 3층에 위치한 ‘브룬치카페’는 유리 지붑 아래에서 조용한 브런치를 즐길 수 있고, 1층 ‘이튼 홀’은 박물관 전체를 한눈에 내려다볼 '\n",
      " '수 있는 인증샷 포인트입니다.\\n'\n",
      " '\\n'\n",
      " '방문 팁:\\n'\n",
      " '1) 시간 절약: 오전 10시 개장 직후 또는 금요일 ‘라이트나이트’(17:00~20:30)에 방문하면 단체관광객이 줄어든다. 1층 정보 '\n",
      " '데스크에서 무료 맵을 받아 ‘Room 4(로제타 스톤) → Room 6(이집트 미라) → Room 18(엘긴 마블)’ 우선 루트를 짜면 '\n",
      " '2시간 만에 베스트 셀렉션을 끝낼 수 있다.\\n'\n",
      " '2) 예약 필수: 특별전은 인터넷(www.britishmuseum.org)에서 날짜 지정 예약을 하지 않으면 현장 대기가 길다. 사진 '\n",
      " '촬영이 금지된 전시도 있으니 사전 확인이 필요하다.\\n'\n",
      " '3) 가이드 활용: ‘가이드 없이는 박물관이 아니다’는 말이 있을 정도로 해설이 중요하다. 공식 오디오가이드(£8)는 10개 언어 지원, '\n",
      " '3시간 분량이며 키즈 버전도 있다. 유튜브 ‘British Museum’ 채널의 ‘Curator’s Corner’를 미리 시청하면 큰 '\n",
      " '그림이 잡힌다.\\n'\n",
      " '4) 휴식 & 기념품: 중앙 그레이트 코트 벤치는 와이파이가 빵빵해 SNS 업로드 최적. 박물관 상점은 2층·1층·지하로 나뉘어 있으며, '\n",
      " '지하 ‘하리로드 기프트숍’에서 파르테논 조각 에코백(£14.99)과 로제타 스톤 티타월(£9.99)이 베스트셀러. 기념품은 박물관 출구 '\n",
      " '후 왼쪽 ‘코너샵’이 가장 한산하다.\\n'\n",
      " '5) 교통 & 입장: 러셀 스퀘어(Russell Square)역(피카딜리 라인)이 가장 가깝고, 토트넘코트 로드(Tottenham '\n",
      " 'Court Road)역(센트럴·노던·엘리자베스 라인)에서 도보 7분. 보안 검색 대기가 길 수 있으니 가방은 작게, 우산·생수는 소지 '\n",
      " '불가.')\n"
     ]
    }
   ],
   "source": [
    "from langchain_core.prompts import ChatPromptTemplate\n",
    "from langchain_openai import ChatOpenAI\n",
    "from langchain_core.output_parsers import StrOutputParser\n",
    "\n",
    "from pprint import pprint\n",
    "\n",
    "llm = ChatOpenAI(\n",
    "    api_key=OPENAI_API_KEY,\n",
    "    base_url=\"https://api.groq.com/openai/v1\",\n",
    "    model=\"moonshotai/kimi-k2-instruct-0905\",\n",
    "    temperature=0.7\n",
    ")\n",
    "\n",
    "prompt1 = ChatPromptTemplate.from_messages([\n",
    "    (\"system\", \"당신은 전문 여행 가이드입니다.\"),\n",
    "    (\"user\", \"{place} 여행지(도시/국가)에서 대표적인 관광 명소 한 곳을 추천해주세요.\")\n",
    "])\n",
    "\n",
    "chain1 = prompt1 | llm | StrOutputParser()\n",
    "\n",
    "prompt2 = ChatPromptTemplate.from_messages([\n",
    "    (\"system\", \"당신은 전문 여행 해설가입니다.\"),\n",
    "    (\"user\", \"추천받은 명소: {landmark}\\n\\n\"\n",
    "             \"아래 출력 형식을 반드시 따라주세요:\\n\\n\"\n",
    "             \"추천 2단계 결과: 명소: (명소 이름)\\n\"\n",
    "             \"역사:\\n...\\n\"\n",
    "             \"특징:\\n...\\n\"\n",
    "             \"방문 팁:\\n...\")\n",
    "])\n",
    "\n",
    "chain2 = (\n",
    "    {\"landmark\": chain1} \n",
    "    \n",
    "    | prompt2\n",
    "    | llm\n",
    "    | StrOutputParser()\n",
    ")\n",
    "\n",
    "response = chain2.invoke({\"place\": \"landmark\"})\n",
    "pprint(response)"
   ]
  },
  {
   "cell_type": "code",
   "execution_count": 5,
   "id": "aa43f82c",
   "metadata": {},
   "outputs": [
    {
     "name": "stdout",
     "output_type": "stream",
     "text": [
      "입력 여행지: 로마\n",
      "\n",
      "1단계 추천 명소: 로마(Roma, 이탈리아)에서 가장 대표적인 명소는 단연  \n",
      "콜로세움(Colosseum·원형경기장)입니다.\n",
      "\n",
      "- 로마제국의 상징적인 건축물(서기 72~80년 완공)  \n",
      "- 세계 7대 불가사의 중 하나이자 유네스코 세계문화유산  \n",
      "- 내부·외부 투어, 지하 감옥·상층 관람대, 야간 조명까지 다양한 프로그램 제공  \n",
      "- 인근 포로 로마노·팔라티노 언덕과 연동된 관광 루트가 이어져 반나절 일정으로 고대 로마를 한눈에 체험할 수 있음\n",
      "\n",
      "2단계 상세 정보:\n",
      "('추천 2단계 결과: 명소: 콜로세움(Colosseum)  \\n'\n",
      " '역사:  \\n'\n",
      " 'AD 72년 베스파시아누스 황제 때 착공해, 아들 티투스에 의해 AD 80년에 완공되었다. 로마 제국 최대의 원형 경기장으로 5만 명을 '\n",
      " '수용했으며, 검투사 결투·야수 사냥·해상 전투 재현(모크 나우마키아) 등이 벌어졌다. 중세에는 요새·채석장으로 사용되다가 18세기 이후 '\n",
      " '보호 운동이 시작되어 오늘날까지 보존되고 있다. 1980년 유네스코 세계문화유산 등재.  \\n'\n",
      " '\\n'\n",
      " '특징:  \\n'\n",
      " '- 타원형 외경 189 m, 높이 48 m, 4층 아케이드가 증명하는 로마 건축의 기술력  \\n'\n",
      " '- 콘크리트·석재·벽돌 혼용, 뼈대·지붕·지하 요새(hypogeum)가 그대로 남아 있어 2천 년 전 구조를 가늠할 수 있음  \\n'\n",
      " '- 밤이면 황금빛 LED 조명이 입구·아치 강조, 낮과는 전혀 다른 분위기 연출  \\n'\n",
      " '- 동쪽 로마포럼·서쪽 팔라티노 언덕과 ‘통합 티켓’으로 연결, 고대 로마 중심부를 하루에 이해할 수 있음  \\n'\n",
      " '\\n'\n",
      " '방문 팁:  \\n'\n",
      " '1. 입장권은 반드시 사전 온라인 예약(공식 사이트·ParcoColosseo)으로 시간대 지정 구매; 당일 현장 구매는 재고 부족이 '\n",
      " '잦음  \\n'\n",
      " '2. 예약 시 “Full Experience” 옵션을 선택하면 지하·경사로·3층 내부 벽 위 투어 포함(영어·이탈리아어) 가능, 90분간 '\n",
      " '안내해 주며 사진 명소 확보  \\n'\n",
      " '3. 오픈 08:30, 마감은 일몰 1시간 전(계절별 변동); 여름 무더위 피하려면 08:30~09:30 입장 권장  \\n'\n",
      " '4. 보안 검색대가 있으므로 큰 가방·드론·유리병 반입 불가, 작은 가방만 허용  \\n'\n",
      " '5. 콜로세움→포럼→팔라티노 순으로 이동하면 종료 13:00 전후 가능; 피크닉을 원하면 팔라티노 언덕 정원 벤치 추천  \\n'\n",
      " '6. 가장 조용한 사진 구도: 지하철 B선 “Colosseo”역 출구 에스컬레이터에서 내려오면 바로 보이는 정면 계단, 이른 아침 또는 '\n",
      " '야간 조명 시 촬영이 최적')\n"
     ]
    }
   ],
   "source": [
    "user_input = \"로마\"\n",
    "print(f\"입력 여행지: {user_input}\")\n",
    "\n",
    "landmark = chain1.invoke({\"place\": user_input})\n",
    "print(\"\\n1단계 추천 명소:\", landmark)\n",
    "\n",
    "detail = chain2.invoke({\"place\": user_input})\n",
    "print(\"\\n2단계 상세 정보:\")\n",
    "pprint(detail)"
   ]
  },
  {
   "cell_type": "code",
   "execution_count": null,
   "id": "6e11a0f5",
   "metadata": {},
   "outputs": [],
   "source": []
  }
 ],
 "metadata": {
  "kernelspec": {
   "display_name": "mylangchain-app-CGunLKE6-py3.11",
   "language": "python",
   "name": "python3"
  },
  "language_info": {
   "codemirror_mode": {
    "name": "ipython",
    "version": 3
   },
   "file_extension": ".py",
   "mimetype": "text/x-python",
   "name": "python",
   "nbconvert_exporter": "python",
   "pygments_lexer": "ipython3",
   "version": "3.11.11"
  }
 },
 "nbformat": 4,
 "nbformat_minor": 5
}
