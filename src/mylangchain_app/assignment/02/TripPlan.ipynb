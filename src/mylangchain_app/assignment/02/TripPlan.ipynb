{
 "cells": [
  {
   "cell_type": "markdown",
   "id": "37b697c4",
   "metadata": {},
   "source": [
    "### 문제 2-4 : 여행 계획 분석기"
   ]
  },
  {
   "cell_type": "code",
   "execution_count": 1,
   "id": "44291407",
   "metadata": {},
   "outputs": [
    {
     "name": "stdout",
     "output_type": "stream",
     "text": [
      "gsk_\n"
     ]
    }
   ],
   "source": [
    "from dotenv import load_dotenv\n",
    "import os\n",
    "load_dotenv()\n",
    "\n",
    "OPENAI_API_KEY = os.getenv(\"OPENAI_API_KEY\")\n",
    "print(OPENAI_API_KEY[:4])"
   ]
  },
  {
   "cell_type": "code",
   "execution_count": 2,
   "id": "e650363e",
   "metadata": {},
   "outputs": [
    {
     "name": "stderr",
     "output_type": "stream",
     "text": [
      "c:\\Users\\USER\\AppData\\Local\\pypoetry\\Cache\\virtualenvs\\mylangchain-app-CGunLKE6-py3.11\\Lib\\site-packages\\tqdm\\auto.py:21: TqdmWarning: IProgress not found. Please update jupyter and ipywidgets. See https://ipywidgets.readthedocs.io/en/stable/user_install.html\n",
      "  from .autonotebook import tqdm as notebook_tqdm\n"
     ]
    },
    {
     "name": "stdout",
     "output_type": "stream",
     "text": [
      "출력 형식 지시사항:\n",
      "The output should be a markdown code snippet formatted in the following schema, including the leading and trailing \"```json\" and \"```\":\n",
      "\n",
      "```json\n",
      "{\n",
      "\t\"destination\": string  // 여행한 장소 또는 여행할 목적지\n",
      "\t\"duration\": string  // 여행 기간 (예: '2박 3일', '5일간')\n",
      "\t\"budget\": string  // 여행 예산 또는 사용한 비용 (예: '30만원', '100달러')\n",
      "\t\"rating\": string  // 여행의 추천도, 1~5점 중 하나의 숫자\n",
      "\t\"activities\": string  // 여행 중 주요 활동들을 리스트 형태로 출력\n",
      "}\n",
      "```\n"
     ]
    }
   ],
   "source": [
    "from langchain_openai import ChatOpenAI\n",
    "from langchain_core.prompts import ChatPromptTemplate\n",
    "from langchain.output_parsers import StructuredOutputParser, ResponseSchema\n",
    "\n",
    "from pprint import pprint\n",
    "\n",
    "response_schemas = [\n",
    "    ResponseSchema(name=\"destination\", description=\"여행한 장소 또는 여행할 목적지\"),\n",
    "    ResponseSchema(name=\"duration\", description=\"여행 기간 (예: '2박 3일', '5일간')\"),\n",
    "    ResponseSchema(name=\"budget\", description=\"여행 예산 또는 사용한 비용 (예: '30만원', '100달러')\"),\n",
    "    ResponseSchema(name=\"rating\", description=\"여행의 추천도, 1~5점 중 하나의 숫자\"),\n",
    "    ResponseSchema(name=\"activities\", description=\"여행 중 주요 활동들을 리스트 형태로 출력\")\n",
    "]\n",
    "\n",
    "parser = StructuredOutputParser.from_response_schemas(response_schemas)\n",
    "format_instructions = parser.get_format_instructions()\n",
    "\n",
    "print(\"출력 형식 지시사항:\")\n",
    "print(format_instructions)"
   ]
  },
  {
   "cell_type": "code",
   "execution_count": 3,
   "id": "9fce9af3",
   "metadata": {},
   "outputs": [
    {
     "name": "stdout",
     "output_type": "stream",
     "text": [
      "===== 분석 결과 =====\n",
      "{'activities': ['해운대 바다구경', '자갈치시장에서 회 먹기', '감천문화마을 구경'],\n",
      " 'budget': '30만원',\n",
      " 'destination': '부산',\n",
      " 'duration': '2박3일',\n",
      " 'rating': '4'}\n"
     ]
    }
   ],
   "source": [
    "\n",
    "template = \"\"\"\n",
    "다음 여행 후기나 여행 계획 텍스트를 분석하여\n",
    "여행지, 기간, 예산, 추천도(1~5점), 주요 활동 리스트를 추출하세요.\n",
    "\n",
    "여행 텍스트: {review}\n",
    "\n",
    "{format_instructions}\n",
    "\"\"\"\n",
    "\n",
    "prompt = ChatPromptTemplate.from_template(template)\n",
    "prompt = prompt.partial(format_instructions=format_instructions)\n",
    "\n",
    "model = ChatOpenAI(\n",
    "    #api_key=OPENAI_API_KEY,\n",
    "    base_url=\"https://api.groq.com/openai/v1\", \n",
    "    model=\"meta-llama/llama-4-scout-17b-16e-instruct\", \n",
    "    temperature=0.7\n",
    ")\n",
    "\n",
    "review = \"\"\"\n",
    "지난 주에 부산으로 2박 3일 여행을 다녀왔어요. 총 30만원 정도 썼는데 \n",
    "해운대에서 바다구경하고, 자갈치시장에서 회 먹고, 감천문화마을도 구경했어요. \n",
    "정말 만족스러운 여행이었습니다. 5점 만점에 4점 정도 줄 수 있을 것 같아요.\n",
    "\"\"\"\n",
    "\n",
    "chain = prompt | model | parser\n",
    "output = chain.invoke({\"review\": review})\n",
    "\n",
    "print(\"===== 분석 결과 =====\")\n",
    "pprint(output)"
   ]
  },
  {
   "cell_type": "code",
   "execution_count": null,
   "id": "f2ed4ee9",
   "metadata": {},
   "outputs": [],
   "source": []
  }
 ],
 "metadata": {
  "kernelspec": {
   "display_name": "mylangchain-app-CGunLKE6-py3.11",
   "language": "python",
   "name": "python3"
  },
  "language_info": {
   "codemirror_mode": {
    "name": "ipython",
    "version": 3
   },
   "file_extension": ".py",
   "mimetype": "text/x-python",
   "name": "python",
   "nbconvert_exporter": "python",
   "pygments_lexer": "ipython3",
   "version": "3.11.11"
  }
 },
 "nbformat": 4,
 "nbformat_minor": 5
}
