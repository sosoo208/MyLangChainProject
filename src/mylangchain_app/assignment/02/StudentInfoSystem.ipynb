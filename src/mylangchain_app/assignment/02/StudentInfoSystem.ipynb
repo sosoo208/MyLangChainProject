{
 "cells": [
  {
   "cell_type": "markdown",
   "id": "447f23a2",
   "metadata": {},
   "source": [
    "### 학생 정보 구조화 시스템"
   ]
  },
  {
   "cell_type": "code",
   "execution_count": 1,
   "id": "e8f459ab",
   "metadata": {},
   "outputs": [
    {
     "name": "stdout",
     "output_type": "stream",
     "text": [
      "gs\n"
     ]
    }
   ],
   "source": [
    "from dotenv import load_dotenv\n",
    "import os\n",
    "load_dotenv()\n",
    "\n",
    "OPENAI_API_KEY = os.getenv(\"OPENAI_API_KEY\")\n",
    "print(OPENAI_API_KEY[:2])"
   ]
  },
  {
   "cell_type": "code",
   "execution_count": 3,
   "id": "29799df6",
   "metadata": {},
   "outputs": [
    {
     "name": "stdout",
     "output_type": "stream",
     "text": [
      "<class '__main__.StudentProfile'>\n",
      "StudentProfile(name='김민수', age=22, major='컴퓨터공학', hobbies=['게임하기', '영화보기', '코딩'], goal='훌륭한 개발자가 되는 것')\n"
     ]
    }
   ],
   "source": [
    "from langchain_openai import ChatOpenAI\n",
    "from langchain_core.prompts import ChatPromptTemplate\n",
    "from langchain.output_parsers import PydanticOutputParser\n",
    "\n",
    "from pydantic import BaseModel, Field\n",
    "from typing import List\n",
    "from pprint import pprint\n",
    "\n",
    "class StudentProfile(BaseModel):\n",
    "    name: str = Field(description=\"학생 이름\")\n",
    "    age: int = Field(description=\"학생 나이\")\n",
    "    major: str = Field(description=\"학생 전공\")\n",
    "    hobbies: List[str] = Field(description=\"학생 취미 리스트\")\n",
    "    goal: str = Field(description=\"학생의 목표\")\n",
    "\n",
    "parser = PydanticOutputParser(pydantic_object=StudentProfile)\n",
    "\n",
    "template = \"\"\"\n",
    "당신은 텍스트 분석 전문가입니다.\n",
    "사용자가 입력한 자유 형식의 자기소개 문장에서\n",
    "아래 항목들을 추출하여 구조화하세요.\n",
    "\n",
    "텍스트: {intro}\n",
    "\n",
    "{format_instructions}\n",
    "\n",
    "중요 규칙:\n",
    "1. 반드시 JSON 형식만 출력하세요.\n",
    "2. 다른 설명이나 문장을 출력하지 마세요.\n",
    "3. 모든 문자열은 큰따옴표(\")를 사용하세요.\n",
    "\"\"\"\n",
    "\n",
    "prompt = ChatPromptTemplate.from_template(template)\n",
    "\n",
    "prompt = prompt.partial(\n",
    "    format_instructions=parser.get_format_instructions()\n",
    ")\n",
    "\n",
    "model = ChatOpenAI(\n",
    "    #api_key=OPENAI_API_KEY,\n",
    "    base_url=\"https://api.groq.com/openai/v1\",  # Groq API 엔드포인트\n",
    "    model=\"meta-llama/llama-4-scout-17b-16e-instruct\",\n",
    "    temperature=0.7\n",
    ")\n",
    "\n",
    "intro_text = \"안녕하세요! 저는 김민수이고 22살입니다. 컴퓨터공학을 전공하고 있어요. 취미로는 게임하기, 영화보기, 코딩을 좋아합니다. 앞으로 훌륭한 개발자가 되는 것이 목표입니다.\"\n",
    "chain = prompt | model | parser\n",
    "output = chain.invoke({\"intro\": intro_text})\n",
    "\n",
    "print(type(output))\n",
    "pprint(output)\n",
    "\n"
   ]
  },
  {
   "cell_type": "code",
   "execution_count": null,
   "id": "550c1f17",
   "metadata": {},
   "outputs": [],
   "source": []
  }
 ],
 "metadata": {
  "kernelspec": {
   "display_name": "mylangchain-app-CGunLKE6-py3.11",
   "language": "python",
   "name": "python3"
  },
  "language_info": {
   "codemirror_mode": {
    "name": "ipython",
    "version": 3
   },
   "file_extension": ".py",
   "mimetype": "text/x-python",
   "name": "python",
   "nbconvert_exporter": "python",
   "pygments_lexer": "ipython3",
   "version": "3.11.11"
  }
 },
 "nbformat": 4,
 "nbformat_minor": 5
}
